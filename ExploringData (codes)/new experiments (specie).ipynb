{
 "cells": [
  {
   "cell_type": "code",
   "execution_count": 52,
   "metadata": {},
   "outputs": [],
   "source": [
    "import csv\n",
    "import sys\n",
    "import pickle\n",
    "import pandas as pd\n",
    "import numpy as np\n",
    "from graphviz import Source\n",
    "from sklearn import tree\n",
    "from IPython.display import SVG\n",
    "from IPython.display import display\n",
    "from IPython.display import Image\n",
    "import matplotlib.pyplot as plt\n",
    "import seaborn as sns\n",
    "from sklearn.model_selection import StratifiedKFold\n",
    "from sklearn.svm import SVC\n",
    "from PIL import Image\n",
    "from sklearn.model_selection import GridSearchCV\n",
    "from sklearn.model_selection import train_test_split\n",
    "from sklearn import metrics\n",
    "from sklearn.preprocessing import StandardScaler\n",
    "from sklearn.ensemble import RandomForestClassifier\n",
    "from sklearn.linear_model import LogisticRegression\n",
    "from sklearn.tree import DecisionTreeClassifier\n",
    "from sklearn.ensemble import VotingClassifier\n",
    "from sklearn.feature_selection import RFE\n",
    "import warnings\n",
    "warnings.filterwarnings('ignore')"
   ]
  },
  {
   "cell_type": "code",
   "execution_count": 3,
   "metadata": {},
   "outputs": [],
   "source": [
    "def read_dataset(tipo):\n",
    "    data = pd.read_csv('/home/alison/Documentos/Projeto-Tomate/datasets_especies/dataset_especies_mfcc.csv', sep=',')\n",
    "\n",
    "    if tipo == 'flor':\n",
    "        data = data[data['Annotation'] != 'voo']\n",
    "    elif tipo == 'voo':\n",
    "        data = data[data['Annotation'] == 'voo']\n",
    "\n",
    "    data = data.drop(['filename', 'Annotation'],axis=1)\n",
    "\n",
    "    classes = data.iloc[:, -1]\n",
    "    standard = StandardScaler()\n",
    "    matriz = standard.fit_transform(np.array(data.iloc[:, :-1]))\n",
    "    \n",
    "    X_train, X_test, y_train, y_test = train_test_split(matriz, classes, test_size=0.5, random_state=0)\n",
    "\n",
    "    return X_train, X_test, y_train, y_test"
   ]
  },
  {
   "cell_type": "code",
   "execution_count": 5,
   "metadata": {},
   "outputs": [],
   "source": [
    "def treino_teste(X_train, y_train, modelo, tuned_parameters, filename):\n",
    "    file_csv = filename + '.csv'\n",
    "    file_pdf = filename + '.pdf'\n",
    "    \n",
    "    kfold = StratifiedKFold(n_splits=5, shuffle=True, random_state=1)\n",
    "\n",
    "    score = 'f1_macro'\n",
    "\n",
    "    clf = GridSearchCV(modelo, tuned_parameters, scoring=score, cv=kfold)\n",
    "\n",
    "    clf.fit(X_train, y_train)\n",
    "\n",
    "    #y_true = clf.predict(X_test)\n",
    "    #if score == 'f1_macro':\n",
    "    #    c, p = y_true, y_pred\n",
    "    \n",
    "    #print(metrics.classification_report(y_true, y_pred))\n",
    "    #cm = pd.crosstab(c, p, rownames=['True'], colnames=['Predicted'], margins=True, dropna=False)\n",
    "    #cm.to_csv(file_csv, sep='\\t')\n",
    "\n",
    "    #fig = plt.figure(num=None, figsize=(10, 10), dpi=50, facecolor='w', edgecolor='k')\n",
    "    #tab_acertos = sns.heatmap(cm, cmap='PuRd', annot=True, annot_kws={'size':13}, cbar=False, square=True)\n",
    "    #tab_acertos.set_xticklabels(tab_acertos.get_xticklabels(), rotation=90) \n",
    "    #tab_acertos.get_figure().savefig(file_pdf)\n",
    "    #plt.show()\n",
    "    \n",
    "    return clf.best_params_"
   ]
  },
  {
   "cell_type": "markdown",
   "metadata": {},
   "source": [
    "## Classificação com SVM"
   ]
  },
  {
   "cell_type": "code",
   "execution_count": 6,
   "metadata": {},
   "outputs": [
    {
     "name": "stdout",
     "output_type": "stream",
     "text": [
      "{'C': 10, 'decision_function_shape': 'ovo', 'gamma': 0.01, 'kernel': 'rbf'}\n"
     ]
    }
   ],
   "source": [
    "# CLASSIFICAÇÃO SONICATION + FLIGHT\n",
    "X_train, X_test, y_train, y_test = read_dataset('ambos')\n",
    "\n",
    "tuned_parameters = [{'kernel': ['rbf'], 'gamma': [1e-2,1e-3,1e-4], 'C': [0.001, 0.1, 0.01, 1, 10], 'decision_function_shape': ['ovo']},\n",
    "                    {'kernel': ['poly'], 'gamma': [1e-2,1e-3,1e-4], 'C': [0.001, 0.1, 0.01, 1, 10], 'decision_function_shape': ['ovo']},\n",
    "                    {'kernel': ['sigmoid'], 'gamma': [1e-2,1e-3,1e-4], 'C': [0.001, 0.1, 0.01, 1, 10], 'decision_function_shape': ['ovo']}, \n",
    "                    {'kernel': ['linear'], 'C': [0.001, 0.1, 0.01, 1, 10], 'decision_function_shape': ['ovo']}]\n",
    "\n",
    "svc_model = SVC()\n",
    "best_params = treino_teste(X_train, y_train, svc_model, tuned_parameters, 'espcieSVMambos')\n",
    "print(best_params)"
   ]
  },
  {
   "cell_type": "code",
   "execution_count": 8,
   "metadata": {},
   "outputs": [
    {
     "name": "stdout",
     "output_type": "stream",
     "text": [
      "Acurácia...: 56.5217\n",
      "Precision..: 46.6608\n",
      "Recall.....: 46.5979\n",
      "F1-Score...: 45.1633\n",
      "\n",
      "                                precision    recall  f1-score   support\n",
      "\n",
      "  Augochloropsis_brachycephala       0.00      0.00      0.00         3\n",
      "            Augochloropsis_sp1       0.58      0.64      0.61        11\n",
      "            Augochloropsis_sp2       0.83      0.71      0.77         7\n",
      "                  Bombus_morio       0.45      0.38      0.42        13\n",
      "             Bombus_pauloensis       0.29      0.46      0.35        13\n",
      "               Centris_tarsata       0.29      0.67      0.40         3\n",
      "           Centris_trigonoides       0.67      0.57      0.62         7\n",
      "               Eulaema_nigrita       0.00      0.00      0.00         1\n",
      "            Exomalopsis_analis       0.74      0.76      0.75        41\n",
      "             Exomalopsis_minor       1.00      0.64      0.78        11\n",
      "              Melipona_bicolor       0.55      0.70      0.62        23\n",
      "       Melipona_quadrifasciata       0.60      0.30      0.40        10\n",
      "Pseudoalglochloropsis_graminea       0.50      0.67      0.57         6\n",
      "          Xylocopa_nigrocincta       0.00      0.00      0.00        10\n",
      "             Xylocopa_suspecta       0.50      0.50      0.50         2\n",
      "\n",
      "                      accuracy                           0.57       161\n",
      "                     macro avg       0.47      0.47      0.45       161\n",
      "                  weighted avg       0.57      0.57      0.56       161\n",
      "\n",
      "\n"
     ]
    }
   ],
   "source": [
    "svc_best_model = SVC(C=10, decision_function_shape='ovo', gamma=0.01, kernel='rbf')\n",
    "\n",
    "svc_best_model.fit(X_train, y_train)\n",
    "\n",
    "y_pred = svc_best_model.predict(X_test)\n",
    "\n",
    "print(\"Acurácia...: %.4f\" %(metrics.accuracy_score(y_test, y_pred) * 100))\n",
    "print(\"Precision..: %.4f\" %(metrics.precision_score(y_test, y_pred, average='macro') * 100))\n",
    "print(\"Recall.....: %.4f\" %(metrics.recall_score(y_test, y_pred, average='macro') * 100))\n",
    "print(\"F1-Score...: %.4f\" %(metrics.f1_score(y_test, y_pred, average='macro') * 100))\n",
    "print()\n",
    "print(metrics.classification_report(y_test, y_pred))\n",
    "print()"
   ]
  },
  {
   "cell_type": "code",
   "execution_count": 53,
   "metadata": {},
   "outputs": [
    {
     "name": "stdout",
     "output_type": "stream",
     "text": [
      "{'C': 10, 'decision_function_shape': 'ovo', 'gamma': 0.01, 'kernel': 'rbf'}\n"
     ]
    }
   ],
   "source": [
    "#CLASSIFICAÇÃO SONICATION\n",
    "X_train, X_test, y_train, y_test = read_dataset('flor')\n",
    "\n",
    "tuned_parameters = [{'kernel': ['rbf'], 'gamma': [1e-2,1e-3,1e-4], 'C': [0.001, 0.1, 0.01, 1, 10], 'decision_function_shape': ['ovo']},\n",
    "                    {'kernel': ['poly'], 'gamma': [1e-2,1e-3,1e-4], 'C': [0.001, 0.1, 0.01, 1, 10], 'decision_function_shape': ['ovo']},\n",
    "                    {'kernel': ['sigmoid'], 'gamma': [1e-2,1e-3,1e-4], 'C': [0.001, 0.1, 0.01, 1, 10], 'decision_function_shape': ['ovo']}, \n",
    "                    {'kernel': ['linear'], 'C': [0.001, 0.1, 0.01, 1, 10], 'decision_function_shape': ['ovo']}]\n",
    "\n",
    "best_params = treino_teste(X_train, y_train, svc_model, tuned_parameters, 'especieSVMflor')\n",
    "print(best_params)"
   ]
  },
  {
   "cell_type": "code",
   "execution_count": 10,
   "metadata": {},
   "outputs": [
    {
     "name": "stdout",
     "output_type": "stream",
     "text": [
      "Acurácia...: 73.3945\n",
      "Precision..: 61.7508\n",
      "Recall.....: 60.7020\n",
      "F1-Score...: 59.0608\n",
      "\n",
      "                                precision    recall  f1-score   support\n",
      "\n",
      "  Augochloropsis_brachycephala       1.00      1.00      1.00         1\n",
      "            Augochloropsis_sp1       0.67      0.33      0.44         6\n",
      "            Augochloropsis_sp2       1.00      1.00      1.00         9\n",
      "                  Bombus_morio       0.83      0.62      0.71         8\n",
      "             Bombus_pauloensis       0.50      0.75      0.60         8\n",
      "               Centris_tarsata       0.00      0.00      0.00         2\n",
      "           Centris_trigonoides       1.00      1.00      1.00         2\n",
      "               Eulaema_nigrita       0.00      0.00      0.00         1\n",
      "            Exomalopsis_analis       0.78      0.93      0.85        30\n",
      "             Exomalopsis_minor       1.00      0.64      0.78        11\n",
      "              Melipona_bicolor       0.82      0.60      0.69        15\n",
      "       Melipona_quadrifasciata       0.67      1.00      0.80         2\n",
      "Pseudoalglochloropsis_graminea       0.89      0.73      0.80        11\n",
      "          Xylocopa_nigrocincta       0.11      0.50      0.18         2\n",
      "             Xylocopa_suspecta       0.00      0.00      0.00         1\n",
      "\n",
      "                      accuracy                           0.73       109\n",
      "                     macro avg       0.62      0.61      0.59       109\n",
      "                  weighted avg       0.78      0.73      0.74       109\n",
      "\n",
      "\n"
     ]
    }
   ],
   "source": [
    "svc_best_model = SVC(C=10, decision_function_shape='ovo', gamma=0.01, kernel='rbf')\n",
    "\n",
    "svc_best_model.fit(X_train, y_train)\n",
    "\n",
    "y_pred = svc_best_model.predict(X_test)\n",
    "\n",
    "print(\"Acurácia...: %.4f\" %(metrics.accuracy_score(y_test, y_pred) * 100))\n",
    "print(\"Precision..: %.4f\" %(metrics.precision_score(y_test, y_pred, average='macro') * 100))\n",
    "print(\"Recall.....: %.4f\" %(metrics.recall_score(y_test, y_pred, average='macro') * 100))\n",
    "print(\"F1-Score...: %.4f\" %(metrics.f1_score(y_test, y_pred, average='macro') * 100))\n",
    "print()\n",
    "print(metrics.classification_report(y_test, y_pred))\n",
    "print()"
   ]
  },
  {
   "cell_type": "code",
   "execution_count": 11,
   "metadata": {},
   "outputs": [
    {
     "name": "stdout",
     "output_type": "stream",
     "text": [
      "{'C': 0.1, 'decision_function_shape': 'ovo', 'kernel': 'linear'}\n"
     ]
    }
   ],
   "source": [
    "#CLASSIFICAÇÃO FLIGHT\n",
    "X_train, X_test, y_train, y_test = read_dataset('voo')\n",
    "\n",
    "tuned_parameters = [{'kernel': ['rbf'], 'gamma': [1e-2,1e-3,1e-4], 'C': [0.001, 0.1, 0.01, 1, 10], 'decision_function_shape': ['ovo']},\n",
    "                    {'kernel': ['poly'], 'gamma': [1e-2,1e-3,1e-4], 'C': [0.001, 0.1, 0.01, 1, 10], 'decision_function_shape': ['ovo']},\n",
    "                    {'kernel': ['sigmoid'], 'gamma': [1e-2,1e-3,1e-4], 'C': [0.001, 0.1, 0.01, 1, 10], 'decision_function_shape': ['ovo']}, \n",
    "                    {'kernel': ['linear'], 'C': [0.001, 0.1, 0.01, 1, 10], 'decision_function_shape': ['ovo']}]\n",
    "\n",
    "best_params = treino_teste(X_train, y_train, svc_model, tuned_parameters, 'especieSVMvoo')\n",
    "print(best_params)"
   ]
  },
  {
   "cell_type": "code",
   "execution_count": 13,
   "metadata": {},
   "outputs": [
    {
     "name": "stdout",
     "output_type": "stream",
     "text": [
      "Acurácia...: 55.7692\n",
      "Precision..: 56.9109\n",
      "Recall.....: 53.7821\n",
      "F1-Score...: 49.0065\n",
      "\n",
      "                                precision    recall  f1-score   support\n",
      "\n",
      "            Augochloropsis_sp1       1.00      0.38      0.55         8\n",
      "            Augochloropsis_sp2       0.00      0.00      0.00         0\n",
      "                  Bombus_morio       1.00      0.80      0.89         5\n",
      "             Bombus_pauloensis       0.56      1.00      0.71         5\n",
      "               Centris_tarsata       0.20      1.00      0.33         1\n",
      "           Centris_trigonoides       1.00      0.50      0.67         6\n",
      "            Exomalopsis_analis       0.14      0.50      0.22         4\n",
      "             Exomalopsis_minor       0.00      0.00      0.00         4\n",
      "              Melipona_bicolor       1.00      0.75      0.86         8\n",
      "       Melipona_quadrifasciata       0.50      0.67      0.57         3\n",
      "Pseudoalglochloropsis_graminea       0.00      0.00      0.00         2\n",
      "          Xylocopa_nigrocincta       1.00      0.40      0.57         5\n",
      "             Xylocopa_suspecta       1.00      1.00      1.00         1\n",
      "\n",
      "                      accuracy                           0.56        52\n",
      "                     macro avg       0.57      0.54      0.49        52\n",
      "                  weighted avg       0.73      0.56      0.58        52\n",
      "\n",
      "\n"
     ]
    }
   ],
   "source": [
    "svc_best_model = SVC(C=10, decision_function_shape='ovo', gamma=0.01, kernel='rbf')\n",
    "\n",
    "svc_best_model.fit(X_train, y_train)\n",
    "\n",
    "y_pred = svc_best_model.predict(X_test)\n",
    "\n",
    "print(\"Acurácia...: %.4f\" %(metrics.accuracy_score(y_test, y_pred) * 100))\n",
    "print(\"Precision..: %.4f\" %(metrics.precision_score(y_test, y_pred, average='macro') * 100))\n",
    "print(\"Recall.....: %.4f\" %(metrics.recall_score(y_test, y_pred, average='macro') * 100))\n",
    "print(\"F1-Score...: %.4f\" %(metrics.f1_score(y_test, y_pred, average='macro') * 100))\n",
    "print()\n",
    "print(metrics.classification_report(y_test, y_pred))\n",
    "print()"
   ]
  },
  {
   "cell_type": "markdown",
   "metadata": {},
   "source": [
    "## Classificação LR"
   ]
  },
  {
   "cell_type": "code",
   "execution_count": 14,
   "metadata": {},
   "outputs": [
    {
     "name": "stdout",
     "output_type": "stream",
     "text": [
      "{'C': 10}\n"
     ]
    }
   ],
   "source": [
    "#CLASSIFICAÇÃO SONICATION + FLIGHT\n",
    "X_train, X_test, y_train, y_test = read_dataset('ambos')\n",
    "\n",
    "tuned_parameters = [{'penalty': ['l1', 'l2']},\n",
    "                    {'C': [0.001, 0.1, 1, 10, 100]}]\n",
    "\n",
    "lr_model = LogisticRegression()\n",
    "best_params = treino_teste(X_train, y_train, lr_model, tuned_parameters, 'especieLRambos')\n",
    "print(best_params)"
   ]
  },
  {
   "cell_type": "code",
   "execution_count": 15,
   "metadata": {},
   "outputs": [
    {
     "name": "stdout",
     "output_type": "stream",
     "text": [
      "Acurácia...: 53.4161\n",
      "Precision..: 53.6747\n",
      "Recall.....: 51.3621\n",
      "F1-Score...: 48.6180\n",
      "\n",
      "                                precision    recall  f1-score   support\n",
      "\n",
      "  Augochloropsis_brachycephala       0.00      0.00      0.00         3\n",
      "            Augochloropsis_sp1       0.46      0.55      0.50        11\n",
      "            Augochloropsis_sp2       1.00      0.43      0.60         7\n",
      "                  Bombus_morio       0.40      0.31      0.35        13\n",
      "             Bombus_pauloensis       0.35      0.54      0.42        13\n",
      "               Centris_tarsata       0.29      0.67      0.40         3\n",
      "           Centris_trigonoides       0.75      0.43      0.55         7\n",
      "               Eulaema_nigrita       0.50      1.00      0.67         1\n",
      "            Exomalopsis_analis       0.72      0.76      0.74        41\n",
      "             Exomalopsis_minor       0.83      0.45      0.59        11\n",
      "              Melipona_bicolor       0.48      0.48      0.48        23\n",
      "       Melipona_quadrifasciata       0.57      0.40      0.47        10\n",
      "Pseudoalglochloropsis_graminea       0.50      1.00      0.67         6\n",
      "          Xylocopa_nigrocincta       0.20      0.20      0.20        10\n",
      "             Xylocopa_suspecta       1.00      0.50      0.67         2\n",
      "\n",
      "                      accuracy                           0.53       161\n",
      "                     macro avg       0.54      0.51      0.49       161\n",
      "                  weighted avg       0.56      0.53      0.53       161\n",
      "\n",
      "\n"
     ]
    }
   ],
   "source": [
    "lr_best_model = LogisticRegression(C=10)\n",
    "\n",
    "lr_best_model.fit(X_train, y_train)\n",
    "\n",
    "y_pred = lr_best_model.predict(X_test)\n",
    "\n",
    "print(\"Acurácia...: %.4f\" %(metrics.accuracy_score(y_test, y_pred) * 100))\n",
    "print(\"Precision..: %.4f\" %(metrics.precision_score(y_test, y_pred, average='macro') * 100))\n",
    "print(\"Recall.....: %.4f\" %(metrics.recall_score(y_test, y_pred, average='macro') * 100))\n",
    "print(\"F1-Score...: %.4f\" %(metrics.f1_score(y_test, y_pred, average='macro') * 100))\n",
    "print()\n",
    "print(metrics.classification_report(y_test, y_pred))\n",
    "print()"
   ]
  },
  {
   "cell_type": "code",
   "execution_count": 17,
   "metadata": {},
   "outputs": [
    {
     "name": "stdout",
     "output_type": "stream",
     "text": [
      "{'C': 10}\n"
     ]
    }
   ],
   "source": [
    "#CLASSIFICAÇÃO SONICATION\n",
    "X_train, X_test, y_train, y_test = read_dataset('flor')\n",
    "\n",
    "tuned_parameters = [{'penalty': ['l1', 'l2']},\n",
    "                    {'C': [0.001, 0.1, 1, 10, 100]}]\n",
    "\n",
    "lr_model = LogisticRegression()\n",
    "best_params = treino_teste(X_train, y_train, lr_model, tuned_parameters, 'especieLRflor')\n",
    "print(best_params)"
   ]
  },
  {
   "cell_type": "code",
   "execution_count": 18,
   "metadata": {},
   "outputs": [
    {
     "name": "stdout",
     "output_type": "stream",
     "text": [
      "Acurácia...: 64.2202\n",
      "Precision..: 45.5688\n",
      "Recall.....: 41.1330\n",
      "F1-Score...: 41.2729\n",
      "\n",
      "                                precision    recall  f1-score   support\n",
      "\n",
      "  Augochloropsis_brachycephala       0.00      0.00      0.00         1\n",
      "            Augochloropsis_sp1       0.50      0.33      0.40         6\n",
      "            Augochloropsis_sp2       1.00      0.89      0.94         9\n",
      "                  Bombus_morio       0.57      0.50      0.53         8\n",
      "             Bombus_pauloensis       0.58      0.88      0.70         8\n",
      "               Centris_tarsata       0.00      0.00      0.00         2\n",
      "           Centris_trigonoides       1.00      0.50      0.67         2\n",
      "               Eulaema_nigrita       0.00      0.00      0.00         1\n",
      "            Exomalopsis_analis       0.75      0.90      0.82        30\n",
      "             Exomalopsis_minor       0.75      0.55      0.63        11\n",
      "              Melipona_bicolor       0.67      0.40      0.50        15\n",
      "       Melipona_quadrifasciata       0.12      0.50      0.20         2\n",
      "Pseudoalglochloropsis_graminea       0.89      0.73      0.80        11\n",
      "          Xylocopa_nigrocincta       0.00      0.00      0.00         2\n",
      "             Xylocopa_suspecta       0.00      0.00      0.00         1\n",
      "\n",
      "                      accuracy                           0.64       109\n",
      "                     macro avg       0.46      0.41      0.41       109\n",
      "                  weighted avg       0.68      0.64      0.64       109\n",
      "\n",
      "\n"
     ]
    }
   ],
   "source": [
    "lr_best_model = LogisticRegression(C=10)\n",
    "\n",
    "lr_best_model.fit(X_train, y_train)\n",
    "\n",
    "y_pred = lr_best_model.predict(X_test)\n",
    "\n",
    "print(\"Acurácia...: %.4f\" %(metrics.accuracy_score(y_test, y_pred) * 100))\n",
    "print(\"Precision..: %.4f\" %(metrics.precision_score(y_test, y_pred, average='macro') * 100))\n",
    "print(\"Recall.....: %.4f\" %(metrics.recall_score(y_test, y_pred, average='macro') * 100))\n",
    "print(\"F1-Score...: %.4f\" %(metrics.f1_score(y_test, y_pred, average='macro') * 100))\n",
    "print()\n",
    "print(metrics.classification_report(y_test, y_pred))\n",
    "print()"
   ]
  },
  {
   "cell_type": "code",
   "execution_count": 19,
   "metadata": {},
   "outputs": [
    {
     "name": "stdout",
     "output_type": "stream",
     "text": [
      "{'C': 10}\n"
     ]
    }
   ],
   "source": [
    "#CLASSIFICAÇÃO SONICATION + FLIGHT\n",
    "X_train, X_test, y_train, y_test = read_dataset('voo')\n",
    "\n",
    "tuned_parameters = [{'penalty': ['l1', 'l2']},\n",
    "                    {'C': [0.001, 0.1, 1, 10, 100]}]\n",
    "\n",
    "lr_model = LogisticRegression()\n",
    "best_params = treino_teste(X_train, y_train, lr_model, tuned_parameters, 'especieLRvoo')\n",
    "print(best_params)"
   ]
  },
  {
   "cell_type": "code",
   "execution_count": 20,
   "metadata": {},
   "outputs": [
    {
     "name": "stdout",
     "output_type": "stream",
     "text": [
      "Acurácia...: 51.9231\n",
      "Precision..: 47.2534\n",
      "Recall.....: 41.3095\n",
      "F1-Score...: 40.2016\n",
      "\n",
      "                                precision    recall  f1-score   support\n",
      "\n",
      "  Augochloropsis_brachycephala       0.00      0.00      0.00         0\n",
      "            Augochloropsis_sp1       1.00      0.12      0.22         8\n",
      "                  Bombus_morio       1.00      0.80      0.89         5\n",
      "             Bombus_pauloensis       0.62      1.00      0.77         5\n",
      "               Centris_tarsata       0.00      0.00      0.00         1\n",
      "           Centris_trigonoides       0.86      1.00      0.92         6\n",
      "               Eulaema_nigrita       0.00      0.00      0.00         0\n",
      "            Exomalopsis_analis       0.13      0.50      0.21         4\n",
      "             Exomalopsis_minor       0.00      0.00      0.00         4\n",
      "              Melipona_bicolor       0.83      0.62      0.71         8\n",
      "       Melipona_quadrifasciata       0.50      0.33      0.40         3\n",
      "Pseudoalglochloropsis_graminea       0.00      0.00      0.00         2\n",
      "          Xylocopa_nigrocincta       0.67      0.40      0.50         5\n",
      "             Xylocopa_suspecta       1.00      1.00      1.00         1\n",
      "\n",
      "                      accuracy                           0.52        52\n",
      "                     macro avg       0.47      0.41      0.40        52\n",
      "                  weighted avg       0.66      0.52      0.52        52\n",
      "\n",
      "\n"
     ]
    }
   ],
   "source": [
    "lr_best_model = LogisticRegression(C=10)\n",
    "\n",
    "lr_best_model.fit(X_train, y_train)\n",
    "\n",
    "y_pred = lr_best_model.predict(X_test)\n",
    "\n",
    "print(\"Acurácia...: %.4f\" %(metrics.accuracy_score(y_test, y_pred) * 100))\n",
    "print(\"Precision..: %.4f\" %(metrics.precision_score(y_test, y_pred, average='macro') * 100))\n",
    "print(\"Recall.....: %.4f\" %(metrics.recall_score(y_test, y_pred, average='macro') * 100))\n",
    "print(\"F1-Score...: %.4f\" %(metrics.f1_score(y_test, y_pred, average='macro') * 100))\n",
    "print()\n",
    "print(metrics.classification_report(y_test, y_pred))\n",
    "print()"
   ]
  },
  {
   "cell_type": "markdown",
   "metadata": {},
   "source": [
    "## Classificação RF"
   ]
  },
  {
   "cell_type": "code",
   "execution_count": 21,
   "metadata": {},
   "outputs": [
    {
     "name": "stdout",
     "output_type": "stream",
     "text": [
      "{'max_features': 'auto', 'n_estimators': 200}\n"
     ]
    }
   ],
   "source": [
    "#CLASSIFICAÇÃO SONICATION + FLIGHT\n",
    "X_train, X_test, y_train, y_test = read_dataset('ambos')\n",
    "\n",
    "tuned_parameters = {'n_estimators': [100, 200],\n",
    "                    'max_features': ['auto', 'sqrt', 'log2']}\n",
    "\n",
    "rf_model = RandomForestClassifier()\n",
    "best_param = treino_teste(X_train, y_train, rf_model, tuned_parameters, 'especieRFambos')\n",
    "print(best_param)"
   ]
  },
  {
   "cell_type": "code",
   "execution_count": 22,
   "metadata": {},
   "outputs": [
    {
     "name": "stdout",
     "output_type": "stream",
     "text": [
      "Acurácia...: 50.9317\n",
      "Precision..: 40.0143\n",
      "Recall.....: 38.5212\n",
      "F1-Score...: 36.2172\n",
      "\n",
      "                                precision    recall  f1-score   support\n",
      "\n",
      "  Augochloropsis_brachycephala       0.00      0.00      0.00         3\n",
      "            Augochloropsis_sp1       0.50      0.18      0.27        11\n",
      "            Augochloropsis_sp2       1.00      0.71      0.83         7\n",
      "                  Bombus_morio       0.67      0.62      0.64        13\n",
      "             Bombus_pauloensis       0.27      0.46      0.34        13\n",
      "               Centris_tarsata       0.40      0.67      0.50         3\n",
      "           Centris_trigonoides       0.80      0.57      0.67         7\n",
      "               Eulaema_nigrita       0.00      0.00      0.00         1\n",
      "            Exomalopsis_analis       0.65      0.80      0.72        41\n",
      "             Exomalopsis_minor       1.00      0.36      0.53        11\n",
      "              Melipona_bicolor       0.38      0.57      0.46        23\n",
      "       Melipona_quadrifasciata       0.00      0.00      0.00        10\n",
      "Pseudoalglochloropsis_graminea       0.33      0.83      0.48         6\n",
      "          Xylocopa_nigrocincta       0.00      0.00      0.00        10\n",
      "             Xylocopa_suspecta       0.00      0.00      0.00         2\n",
      "\n",
      "                      accuracy                           0.51       161\n",
      "                     macro avg       0.40      0.39      0.36       161\n",
      "                  weighted avg       0.50      0.51      0.47       161\n",
      "\n",
      "\n"
     ]
    }
   ],
   "source": [
    "rf_best_model = RandomForestClassifier(max_features='auto', n_estimators=200)\n",
    "\n",
    "rf_best_model.fit(X_train, y_train)\n",
    "\n",
    "y_pred = rf_best_model.predict(X_test)\n",
    "\n",
    "print(\"Acurácia...: %.4f\" %(metrics.accuracy_score(y_test, y_pred) * 100))\n",
    "print(\"Precision..: %.4f\" %(metrics.precision_score(y_test, y_pred, average='macro') * 100))\n",
    "print(\"Recall.....: %.4f\" %(metrics.recall_score(y_test, y_pred, average='macro') * 100))\n",
    "print(\"F1-Score...: %.4f\" %(metrics.f1_score(y_test, y_pred, average='macro') * 100))\n",
    "print()\n",
    "print(metrics.classification_report(y_test, y_pred))\n",
    "print()"
   ]
  },
  {
   "cell_type": "code",
   "execution_count": 23,
   "metadata": {},
   "outputs": [
    {
     "name": "stdout",
     "output_type": "stream",
     "text": [
      "{'max_features': 'sqrt', 'n_estimators': 200}\n"
     ]
    }
   ],
   "source": [
    "#CLASSIFICAÇÃO SONICATION\n",
    "X_train, X_test, y_train, y_test = read_dataset('flor')\n",
    "\n",
    "tuned_parameters = {'n_estimators': [100, 200],\n",
    "                    'max_features': ['auto', 'sqrt', 'log2']}\n",
    "\n",
    "rf_model = RandomForestClassifier()\n",
    "best_param = treino_teste(X_train, y_train, rf_model, tuned_parameters, 'especieRFflor')\n",
    "print(best_param)"
   ]
  },
  {
   "cell_type": "code",
   "execution_count": 24,
   "metadata": {},
   "outputs": [
    {
     "name": "stdout",
     "output_type": "stream",
     "text": [
      "Acurácia...: 61.4679\n",
      "Precision..: 50.9583\n",
      "Recall.....: 39.5875\n",
      "F1-Score...: 40.1111\n",
      "\n",
      "                                precision    recall  f1-score   support\n",
      "\n",
      "  Augochloropsis_brachycephala       0.00      0.00      0.00         1\n",
      "            Augochloropsis_sp1       1.00      0.33      0.50         6\n",
      "            Augochloropsis_sp2       1.00      0.22      0.36         9\n",
      "                  Bombus_morio       1.00      0.50      0.67         8\n",
      "             Bombus_pauloensis       0.45      0.62      0.53         8\n",
      "               Centris_tarsata       0.00      0.00      0.00         2\n",
      "           Centris_trigonoides       0.00      0.00      0.00         2\n",
      "               Eulaema_nigrita       0.00      0.00      0.00         1\n",
      "            Exomalopsis_analis       0.56      0.93      0.70        30\n",
      "             Exomalopsis_minor       1.00      0.55      0.71        11\n",
      "              Melipona_bicolor       0.65      0.73      0.69        15\n",
      "       Melipona_quadrifasciata       1.00      1.00      1.00         2\n",
      "Pseudoalglochloropsis_graminea       0.86      0.55      0.67        11\n",
      "          Xylocopa_nigrocincta       0.12      0.50      0.20         2\n",
      "             Xylocopa_suspecta       0.00      0.00      0.00         1\n",
      "\n",
      "                      accuracy                           0.61       109\n",
      "                     macro avg       0.51      0.40      0.40       109\n",
      "                  weighted avg       0.70      0.61      0.59       109\n",
      "\n",
      "\n"
     ]
    }
   ],
   "source": [
    "rf_best_model = RandomForestClassifier(max_features='sqrt', n_estimators=200)\n",
    "\n",
    "rf_best_model.fit(X_train, y_train)\n",
    "\n",
    "y_pred = rf_best_model.predict(X_test)\n",
    "\n",
    "print(\"Acurácia...: %.4f\" %(metrics.accuracy_score(y_test, y_pred) * 100))\n",
    "print(\"Precision..: %.4f\" %(metrics.precision_score(y_test, y_pred, average='macro') * 100))\n",
    "print(\"Recall.....: %.4f\" %(metrics.recall_score(y_test, y_pred, average='macro') * 100))\n",
    "print(\"F1-Score...: %.4f\" %(metrics.f1_score(y_test, y_pred, average='macro') * 100))\n",
    "print()\n",
    "print(metrics.classification_report(y_test, y_pred))\n",
    "print()"
   ]
  },
  {
   "cell_type": "code",
   "execution_count": 25,
   "metadata": {},
   "outputs": [
    {
     "name": "stdout",
     "output_type": "stream",
     "text": [
      "{'max_features': 'auto', 'n_estimators': 100}\n"
     ]
    }
   ],
   "source": [
    "#CLASSIFICAÇÃO FLIGHT\n",
    "X_train, X_test, y_train, y_test = read_dataset('voo')\n",
    "\n",
    "tuned_parameters = {'n_estimators': [100, 200],\n",
    "                    'max_features': ['auto', 'sqrt', 'log2']}\n",
    "\n",
    "rf_model = RandomForestClassifier()\n",
    "best_param = treino_teste(X_train, y_train, rf_model, tuned_parameters, 'especieRFvoo')\n",
    "print(best_param)"
   ]
  },
  {
   "cell_type": "code",
   "execution_count": 28,
   "metadata": {},
   "outputs": [
    {
     "name": "stdout",
     "output_type": "stream",
     "text": [
      "Acurácia...: 48.0769\n",
      "Precision..: 45.1705\n",
      "Recall.....: 48.1944\n",
      "F1-Score...: 39.4298\n",
      "\n",
      "                                precision    recall  f1-score   support\n",
      "\n",
      "            Augochloropsis_sp1       0.00      0.00      0.00         8\n",
      "                  Bombus_morio       1.00      1.00      1.00         5\n",
      "             Bombus_pauloensis       0.50      1.00      0.67         5\n",
      "               Centris_tarsata       0.25      1.00      0.40         1\n",
      "           Centris_trigonoides       1.00      0.33      0.50         6\n",
      "            Exomalopsis_analis       0.12      0.50      0.20         4\n",
      "             Exomalopsis_minor       0.00      0.00      0.00         4\n",
      "              Melipona_bicolor       0.55      0.75      0.63         8\n",
      "       Melipona_quadrifasciata       1.00      1.00      1.00         3\n",
      "Pseudoalglochloropsis_graminea       0.00      0.00      0.00         2\n",
      "          Xylocopa_nigrocincta       1.00      0.20      0.33         5\n",
      "             Xylocopa_suspecta       0.00      0.00      0.00         1\n",
      "\n",
      "                      accuracy                           0.48        52\n",
      "                     macro avg       0.45      0.48      0.39        52\n",
      "                  weighted avg       0.51      0.48      0.43        52\n",
      "\n",
      "\n"
     ]
    }
   ],
   "source": [
    "rf_best_model = RandomForestClassifier(max_features='auto', n_estimators=100)\n",
    "\n",
    "rf_best_model.fit(X_train, y_train)\n",
    "\n",
    "y_pred = rf_best_model.predict(X_test)\n",
    "\n",
    "print(\"Acurácia...: %.4f\" %(metrics.accuracy_score(y_test, y_pred) * 100))\n",
    "print(\"Precision..: %.4f\" %(metrics.precision_score(y_test, y_pred, average='macro') * 100))\n",
    "print(\"Recall.....: %.4f\" %(metrics.recall_score(y_test, y_pred, average='macro') * 100))\n",
    "print(\"F1-Score...: %.4f\" %(metrics.f1_score(y_test, y_pred, average='macro') * 100))\n",
    "print()\n",
    "print(metrics.classification_report(y_test, y_pred))\n",
    "print()"
   ]
  },
  {
   "cell_type": "markdown",
   "metadata": {},
   "source": [
    "## Classificação DTree"
   ]
  },
  {
   "cell_type": "code",
   "execution_count": 29,
   "metadata": {},
   "outputs": [
    {
     "name": "stdout",
     "output_type": "stream",
     "text": [
      "{'criterion': 'entropy', 'max_depth': 5, 'min_samples_split': 2}\n"
     ]
    }
   ],
   "source": [
    "#CLASSIFICAÇÃO SONICATION + FLIGHT\n",
    "X_train, X_test, y_train, y_test = read_dataset('ambos')\n",
    "\n",
    "tuned_parameters = {\"criterion\": [\"gini\", \"entropy\"],\n",
    "                    \"min_samples_split\": [2, 10],\n",
    "                    \"max_depth\": [2, 5, 10]\n",
    "                    }\n",
    "\n",
    "detree_model = DecisionTreeClassifier()\n",
    "best_param = treino_teste(X_train, y_train, detree_model, tuned_parameters, 'especieDTREEambos')\n",
    "print(best_param)"
   ]
  },
  {
   "cell_type": "code",
   "execution_count": 31,
   "metadata": {},
   "outputs": [
    {
     "name": "stdout",
     "output_type": "stream",
     "text": [
      "Acurácia...: 32.9193\n",
      "Precision..: 31.6073\n",
      "Recall.....: 28.5408\n",
      "F1-Score...: 25.6790\n",
      "\n",
      "                                precision    recall  f1-score   support\n",
      "\n",
      "  Augochloropsis_brachycephala       0.00      0.00      0.00         3\n",
      "            Augochloropsis_sp1       0.57      0.36      0.44        11\n",
      "            Augochloropsis_sp2       0.00      0.00      0.00         7\n",
      "                  Bombus_morio       0.21      0.23      0.22        13\n",
      "             Bombus_pauloensis       0.38      0.38      0.38        13\n",
      "               Centris_tarsata       0.40      0.67      0.50         3\n",
      "           Centris_trigonoides       0.43      0.43      0.43         7\n",
      "               Eulaema_nigrita       0.00      0.00      0.00         1\n",
      "            Exomalopsis_analis       0.46      0.41      0.44        41\n",
      "             Exomalopsis_minor       0.50      0.45      0.48        11\n",
      "              Melipona_bicolor       0.44      0.30      0.36        23\n",
      "       Melipona_quadrifasciata       1.00      0.10      0.18        10\n",
      "Pseudoalglochloropsis_graminea       0.18      0.83      0.29         6\n",
      "          Xylocopa_nigrocincta       0.17      0.10      0.12        10\n",
      "             Xylocopa_suspecta       0.00      0.00      0.00         2\n",
      "\n",
      "                      accuracy                           0.33       161\n",
      "                     macro avg       0.32      0.29      0.26       161\n",
      "                  weighted avg       0.41      0.33      0.33       161\n",
      "\n",
      "\n"
     ]
    }
   ],
   "source": [
    "dtree_best_model = DecisionTreeClassifier(criterion='entropy', max_depth=5, min_samples_split=2)\n",
    "\n",
    "dtree_best_model.fit(X_train, y_train)\n",
    "\n",
    "y_pred = dtree_best_model.predict(X_test)\n",
    "\n",
    "print(\"Acurácia...: %.4f\" %(metrics.accuracy_score(y_test, y_pred) * 100))\n",
    "print(\"Precision..: %.4f\" %(metrics.precision_score(y_test, y_pred, average='macro') * 100))\n",
    "print(\"Recall.....: %.4f\" %(metrics.recall_score(y_test, y_pred, average='macro') * 100))\n",
    "print(\"F1-Score...: %.4f\" %(metrics.f1_score(y_test, y_pred, average='macro') * 100))\n",
    "print()\n",
    "print(metrics.classification_report(y_test, y_pred))\n",
    "print()"
   ]
  },
  {
   "cell_type": "code",
   "execution_count": 32,
   "metadata": {},
   "outputs": [
    {
     "name": "stdout",
     "output_type": "stream",
     "text": [
      "{'criterion': 'entropy', 'max_depth': 5, 'min_samples_split': 10}\n"
     ]
    }
   ],
   "source": [
    "#CLASSIFICAÇÃO SONICATION\n",
    "X_train, X_test, y_train, y_test = read_dataset('flor')\n",
    "\n",
    "tuned_parameters = {\"criterion\": [\"gini\", \"entropy\"],\n",
    "                    \"min_samples_split\": [2, 10],\n",
    "                    \"max_depth\": [2, 5, 10]\n",
    "                    }\n",
    "\n",
    "detree_model = DecisionTreeClassifier()\n",
    "best_param = treino_teste(X_train, y_train, detree_model, tuned_parameters, 'especieDTREEflor')\n",
    "print(best_param)"
   ]
  },
  {
   "cell_type": "code",
   "execution_count": 34,
   "metadata": {},
   "outputs": [
    {
     "name": "stdout",
     "output_type": "stream",
     "text": [
      "Acurácia...: 43.1193\n",
      "Precision..: 32.8175\n",
      "Recall.....: 37.5993\n",
      "F1-Score...: 31.6904\n",
      "\n",
      "                                precision    recall  f1-score   support\n",
      "\n",
      "  Augochloropsis_brachycephala       0.00      0.00      0.00         1\n",
      "            Augochloropsis_sp1       0.20      0.17      0.18         6\n",
      "            Augochloropsis_sp2       0.67      0.44      0.53         9\n",
      "                  Bombus_morio       0.00      0.00      0.00         8\n",
      "             Bombus_pauloensis       0.25      0.25      0.25         8\n",
      "               Centris_tarsata       0.00      0.00      0.00         2\n",
      "           Centris_trigonoides       0.50      0.50      0.50         2\n",
      "               Eulaema_nigrita       0.00      0.00      0.00         1\n",
      "            Exomalopsis_analis       0.50      0.70      0.58        30\n",
      "             Exomalopsis_minor       0.71      0.45      0.56        11\n",
      "              Melipona_bicolor       0.80      0.53      0.64        15\n",
      "       Melipona_quadrifasciata       0.33      1.00      0.50         2\n",
      "Pseudoalglochloropsis_graminea       0.33      0.09      0.14        11\n",
      "          Xylocopa_nigrocincta       0.12      0.50      0.20         2\n",
      "             Xylocopa_suspecta       0.50      1.00      0.67         1\n",
      "\n",
      "                      accuracy                           0.43       109\n",
      "                     macro avg       0.33      0.38      0.32       109\n",
      "                  weighted avg       0.46      0.43      0.42       109\n",
      "\n",
      "\n"
     ]
    }
   ],
   "source": [
    "dtree_best_model = DecisionTreeClassifier(criterion='entropy', max_depth=5, min_samples_split=2)\n",
    "\n",
    "dtree_best_model.fit(X_train, y_train)\n",
    "\n",
    "y_pred = dtree_best_model.predict(X_test)\n",
    "\n",
    "print(\"Acurácia...: %.4f\" %(metrics.accuracy_score(y_test, y_pred) * 100))\n",
    "print(\"Precision..: %.4f\" %(metrics.precision_score(y_test, y_pred, average='macro') * 100))\n",
    "print(\"Recall.....: %.4f\" %(metrics.recall_score(y_test, y_pred, average='macro') * 100))\n",
    "print(\"F1-Score...: %.4f\" %(metrics.f1_score(y_test, y_pred, average='macro') * 100))\n",
    "print()\n",
    "print(metrics.classification_report(y_test, y_pred))\n",
    "print()"
   ]
  },
  {
   "cell_type": "code",
   "execution_count": 35,
   "metadata": {},
   "outputs": [
    {
     "name": "stdout",
     "output_type": "stream",
     "text": [
      "{'criterion': 'entropy', 'max_depth': 5, 'min_samples_split': 10}\n"
     ]
    }
   ],
   "source": [
    "#CLASSIFICAÇÃO FLIGHT\n",
    "X_train, X_test, y_train, y_test = read_dataset('voo')\n",
    "\n",
    "tuned_parameters = {\"criterion\": [\"gini\", \"entropy\"],\n",
    "                    \"min_samples_split\": [2, 10],\n",
    "                    \"max_depth\": [2, 5, 10]\n",
    "                    }\n",
    "\n",
    "detree_model = DecisionTreeClassifier()\n",
    "best_param = treino_teste(X_train, y_train, detree_model, tuned_parameters, 'especieDTREEvoo')\n",
    "print(best_param)"
   ]
  },
  {
   "cell_type": "code",
   "execution_count": 38,
   "metadata": {},
   "outputs": [
    {
     "name": "stdout",
     "output_type": "stream",
     "text": [
      "Acurácia...: 48.0769\n",
      "Precision..: 34.3537\n",
      "Recall.....: 32.2024\n",
      "F1-Score...: 32.0292\n",
      "\n",
      "                                precision    recall  f1-score   support\n",
      "\n",
      "  Augochloropsis_brachycephala       0.00      0.00      0.00         0\n",
      "            Augochloropsis_sp1       0.67      0.50      0.57         8\n",
      "            Augochloropsis_sp2       0.00      0.00      0.00         0\n",
      "                  Bombus_morio       0.50      0.40      0.44         5\n",
      "             Bombus_pauloensis       0.67      0.80      0.73         5\n",
      "               Centris_tarsata       0.00      0.00      0.00         1\n",
      "           Centris_trigonoides       1.00      0.67      0.80         6\n",
      "            Exomalopsis_analis       0.14      0.25      0.18         4\n",
      "             Exomalopsis_minor       0.00      0.00      0.00         4\n",
      "              Melipona_bicolor       1.00      0.62      0.77         8\n",
      "       Melipona_quadrifasciata       0.33      0.67      0.44         3\n",
      "Pseudoalglochloropsis_graminea       0.00      0.00      0.00         2\n",
      "          Xylocopa_nigrocincta       0.50      0.60      0.55         5\n",
      "             Xylocopa_suspecta       0.00      0.00      0.00         1\n",
      "\n",
      "                      accuracy                           0.48        52\n",
      "                     macro avg       0.34      0.32      0.32        52\n",
      "                  weighted avg       0.56      0.48      0.50        52\n",
      "\n",
      "\n"
     ]
    }
   ],
   "source": [
    "dtree_best_model = DecisionTreeClassifier(criterion='entropy', max_depth=5, min_samples_split=2)\n",
    "\n",
    "dtree_best_model.fit(X_train, y_train)\n",
    "\n",
    "y_pred = dtree_best_model.predict(X_test)\n",
    "\n",
    "print(\"Acurácia...: %.4f\" %(metrics.accuracy_score(y_test, y_pred) * 100))\n",
    "print(\"Precision..: %.4f\" %(metrics.precision_score(y_test, y_pred, average='macro') * 100))\n",
    "print(\"Recall.....: %.4f\" %(metrics.recall_score(y_test, y_pred, average='macro') * 100))\n",
    "print(\"F1-Score...: %.4f\" %(metrics.f1_score(y_test, y_pred, average='macro') * 100))\n",
    "print()\n",
    "print(metrics.classification_report(y_test, y_pred))\n",
    "print()"
   ]
  },
  {
   "cell_type": "markdown",
   "metadata": {},
   "source": [
    "## Classificação Ensemble"
   ]
  },
  {
   "cell_type": "code",
   "execution_count": 40,
   "metadata": {},
   "outputs": [
    {
     "name": "stdout",
     "output_type": "stream",
     "text": [
      "{'lr__C': 100, 'svc__C': 10}\n"
     ]
    }
   ],
   "source": [
    "#CLASSIFICAÇÃO SONICATION + FLIGHT\n",
    "X_train, X_test, y_train, y_test = read_dataset('ambos')\n",
    "\n",
    "tuned_parameters = {'lr__C': [0.001, 0.1, 1, 10, 100],\n",
    "                    'svc__C': [0.001, 0.1, 0.01, 1, 10]}\n",
    "\n",
    "svc = SVC()\n",
    "rf = RandomForestClassifier()\n",
    "lr = LogisticRegression()\n",
    "\n",
    "modelos = [('svc', svc), ('rf', rf), ('lr', lr)]\n",
    "\n",
    "votingclf = VotingClassifier(estimators=modelos, voting='hard')\n",
    "best_param = treino_teste(X_train, y_train, votingclf, tuned_parameters, 'especieENSEMBLEambos')\n",
    "print(best_param)"
   ]
  },
  {
   "cell_type": "code",
   "execution_count": 46,
   "metadata": {},
   "outputs": [
    {
     "name": "stdout",
     "output_type": "stream",
     "text": [
      "Acurácia...: 58.3851\n",
      "Precision..: 55.2265\n",
      "Recall.....: 47.1490\n",
      "F1-Score...: 47.9372\n",
      "\n",
      "                                precision    recall  f1-score   support\n",
      "\n",
      "  Augochloropsis_brachycephala       0.00      0.00      0.00         3\n",
      "            Augochloropsis_sp1       0.60      0.55      0.57        11\n",
      "            Augochloropsis_sp2       1.00      0.57      0.73         7\n",
      "                  Bombus_morio       0.78      0.54      0.64        13\n",
      "             Bombus_pauloensis       0.27      0.46      0.34        13\n",
      "               Centris_tarsata       0.29      0.67      0.40         3\n",
      "           Centris_trigonoides       0.60      0.43      0.50         7\n",
      "               Eulaema_nigrita       0.00      0.00      0.00         1\n",
      "            Exomalopsis_analis       0.71      0.83      0.76        41\n",
      "             Exomalopsis_minor       1.00      0.55      0.71        11\n",
      "              Melipona_bicolor       0.48      0.65      0.56        23\n",
      "       Melipona_quadrifasciata       0.67      0.40      0.50        10\n",
      "Pseudoalglochloropsis_graminea       0.56      0.83      0.67         6\n",
      "          Xylocopa_nigrocincta       0.33      0.10      0.15        10\n",
      "             Xylocopa_suspecta       1.00      0.50      0.67         2\n",
      "\n",
      "                      accuracy                           0.58       161\n",
      "                     macro avg       0.55      0.47      0.48       161\n",
      "                  weighted avg       0.61      0.58      0.57       161\n",
      "\n",
      "\n"
     ]
    }
   ],
   "source": [
    "best_svc = SVC(C=10)\n",
    "rf = RandomForestClassifier()\n",
    "best_lr = LogisticRegression(C=10)\n",
    "\n",
    "modelos = [('svc', best_svc), ('rf', rf), ('lr', best_lr)]\n",
    "\n",
    "best_votingclf = VotingClassifier(estimators=modelos, voting='hard')\n",
    "\n",
    "best_votingclf.fit(X_train, y_train)\n",
    "\n",
    "y_pred = best_votingclf.predict(X_test)\n",
    "\n",
    "print(\"Acurácia...: %.4f\" %(metrics.accuracy_score(y_test, y_pred) * 100))\n",
    "print(\"Precision..: %.4f\" %(metrics.precision_score(y_test, y_pred, average='macro') * 100))\n",
    "print(\"Recall.....: %.4f\" %(metrics.recall_score(y_test, y_pred, average='macro') * 100))\n",
    "print(\"F1-Score...: %.4f\" %(metrics.f1_score(y_test, y_pred, average='macro') * 100))\n",
    "print()\n",
    "print(metrics.classification_report(y_test, y_pred))\n",
    "print()"
   ]
  },
  {
   "cell_type": "code",
   "execution_count": 47,
   "metadata": {},
   "outputs": [
    {
     "name": "stdout",
     "output_type": "stream",
     "text": [
      "{'lr__C': 10, 'svc__C': 10}\n"
     ]
    }
   ],
   "source": [
    "#CLASSIFICAÇÃO SONICATION\n",
    "X_train, X_test, y_train, y_test = read_dataset('flor')\n",
    "\n",
    "tuned_parameters = {'lr__C': [0.001, 0.1, 1, 10, 100],\n",
    "                    'svc__C': [0.001, 0.1, 0.01, 1, 10]}\n",
    "\n",
    "svc = SVC()\n",
    "rf = RandomForestClassifier()\n",
    "lr = LogisticRegression()\n",
    "\n",
    "modelos = [('svc', svc), ('rf', rf), ('lr', lr)]\n",
    "\n",
    "votingclf = VotingClassifier(estimators=modelos, voting='hard')\n",
    "best_param = treino_teste(X_train, y_train, votingclf, tuned_parameters, 'especieENSEMBLEflor')\n",
    "print(best_param)"
   ]
  },
  {
   "cell_type": "code",
   "execution_count": 48,
   "metadata": {},
   "outputs": [
    {
     "name": "stdout",
     "output_type": "stream",
     "text": [
      "Acurácia...: 65.1376\n",
      "Precision..: 43.7991\n",
      "Recall.....: 37.8737\n",
      "F1-Score...: 38.8633\n",
      "\n",
      "                                precision    recall  f1-score   support\n",
      "\n",
      "  Augochloropsis_brachycephala       0.00      0.00      0.00         1\n",
      "            Augochloropsis_sp1       0.40      0.33      0.36         6\n",
      "            Augochloropsis_sp2       1.00      0.67      0.80         9\n",
      "                  Bombus_morio       1.00      0.50      0.67         8\n",
      "             Bombus_pauloensis       0.44      0.88      0.58         8\n",
      "               Centris_tarsata       0.00      0.00      0.00         2\n",
      "           Centris_trigonoides       0.00      0.00      0.00         2\n",
      "               Eulaema_nigrita       0.00      0.00      0.00         1\n",
      "            Exomalopsis_analis       0.65      0.93      0.77        30\n",
      "             Exomalopsis_minor       1.00      0.55      0.71        11\n",
      "              Melipona_bicolor       0.69      0.60      0.64        15\n",
      "       Melipona_quadrifasciata       0.50      0.50      0.50         2\n",
      "Pseudoalglochloropsis_graminea       0.89      0.73      0.80        11\n",
      "          Xylocopa_nigrocincta       0.00      0.00      0.00         2\n",
      "             Xylocopa_suspecta       0.00      0.00      0.00         1\n",
      "\n",
      "                      accuracy                           0.65       109\n",
      "                     macro avg       0.44      0.38      0.39       109\n",
      "                  weighted avg       0.68      0.65      0.64       109\n",
      "\n",
      "\n"
     ]
    }
   ],
   "source": [
    "best_svc = SVC(C=10)\n",
    "rf = RandomForestClassifier()\n",
    "best_lr = LogisticRegression(C=10)\n",
    "\n",
    "modelos = [('svc', best_svc), ('rf', rf), ('lr', best_lr)]\n",
    "\n",
    "best_votingclf = VotingClassifier(estimators=modelos, voting='hard')\n",
    "\n",
    "best_votingclf.fit(X_train, y_train)\n",
    "\n",
    "y_pred = best_votingclf.predict(X_test)\n",
    "\n",
    "print(\"Acurácia...: %.4f\" %(metrics.accuracy_score(y_test, y_pred) * 100))\n",
    "print(\"Precision..: %.4f\" %(metrics.precision_score(y_test, y_pred, average='macro') * 100))\n",
    "print(\"Recall.....: %.4f\" %(metrics.recall_score(y_test, y_pred, average='macro') * 100))\n",
    "print(\"F1-Score...: %.4f\" %(metrics.f1_score(y_test, y_pred, average='macro') * 100))\n",
    "print()\n",
    "print(metrics.classification_report(y_test, y_pred))\n",
    "print()"
   ]
  },
  {
   "cell_type": "code",
   "execution_count": 49,
   "metadata": {},
   "outputs": [
    {
     "name": "stdout",
     "output_type": "stream",
     "text": [
      "{'lr__C': 10, 'svc__C': 1}\n"
     ]
    }
   ],
   "source": [
    "#CLASSIFICAÇÃO FLIGHT\n",
    "X_train, X_test, y_train, y_test = read_dataset('voo')\n",
    "\n",
    "tuned_parameters = {'lr__C': [0.001, 0.1, 1, 10, 100],\n",
    "                    'svc__C': [0.001, 0.1, 0.01, 1, 10]}\n",
    "\n",
    "svc = SVC()\n",
    "rf = RandomForestClassifier()\n",
    "lr = LogisticRegression()\n",
    "\n",
    "modelos = [('svc', svc), ('rf', rf), ('lr', lr)]\n",
    "\n",
    "votingclf = VotingClassifier(estimators=modelos, voting='hard')\n",
    "best_param = treino_teste(X_train, y_train, votingclf, tuned_parameters, 'especieENSEMBLEvoo')\n",
    "print(best_param)"
   ]
  },
  {
   "cell_type": "code",
   "execution_count": 51,
   "metadata": {},
   "outputs": [
    {
     "name": "stdout",
     "output_type": "stream",
     "text": [
      "Acurácia...: 50.0000\n",
      "Precision..: 49.6528\n",
      "Recall.....: 40.9028\n",
      "F1-Score...: 38.2898\n",
      "\n",
      "                                precision    recall  f1-score   support\n",
      "\n",
      "            Augochloropsis_sp1       1.00      0.12      0.22         8\n",
      "                  Bombus_morio       1.00      1.00      1.00         5\n",
      "             Bombus_pauloensis       0.50      1.00      0.67         5\n",
      "               Centris_tarsata       0.00      0.00      0.00         1\n",
      "           Centris_trigonoides       1.00      0.67      0.80         6\n",
      "            Exomalopsis_analis       0.12      0.50      0.20         4\n",
      "             Exomalopsis_minor       0.00      0.00      0.00         4\n",
      "              Melipona_bicolor       0.67      0.75      0.71         8\n",
      "       Melipona_quadrifasciata       0.67      0.67      0.67         3\n",
      "Pseudoalglochloropsis_graminea       0.00      0.00      0.00         2\n",
      "          Xylocopa_nigrocincta       1.00      0.20      0.33         5\n",
      "             Xylocopa_suspecta       0.00      0.00      0.00         1\n",
      "\n",
      "                      accuracy                           0.50        52\n",
      "                     macro avg       0.50      0.41      0.38        52\n",
      "                  weighted avg       0.66      0.50      0.48        52\n",
      "\n",
      "\n"
     ]
    }
   ],
   "source": [
    "best_svc = SVC(C=1)\n",
    "rf = RandomForestClassifier()\n",
    "best_lr = LogisticRegression(C=10)\n",
    "\n",
    "modelos = [('svc', best_svc), ('rf', rf), ('lr', best_lr)]\n",
    "\n",
    "best_votingclf = VotingClassifier(estimators=modelos, voting='hard')\n",
    "\n",
    "best_votingclf.fit(X_train, y_train)\n",
    "\n",
    "y_pred = best_votingclf.predict(X_test)\n",
    "\n",
    "print(\"Acurácia...: %.4f\" %(metrics.accuracy_score(y_test, y_pred) * 100))\n",
    "print(\"Precision..: %.4f\" %(metrics.precision_score(y_test, y_pred, average='macro') * 100))\n",
    "print(\"Recall.....: %.4f\" %(metrics.recall_score(y_test, y_pred, average='macro') * 100))\n",
    "print(\"F1-Score...: %.4f\" %(metrics.f1_score(y_test, y_pred, average='macro') * 100))\n",
    "print()\n",
    "print(metrics.classification_report(y_test, y_pred))\n",
    "print()"
   ]
  },
  {
   "cell_type": "code",
   "execution_count": null,
   "metadata": {},
   "outputs": [],
   "source": []
  }
 ],
 "metadata": {
  "kernelspec": {
   "display_name": "Python 3",
   "language": "python",
   "name": "python3"
  },
  "language_info": {
   "codemirror_mode": {
    "name": "ipython",
    "version": 3
   },
   "file_extension": ".py",
   "mimetype": "text/x-python",
   "name": "python",
   "nbconvert_exporter": "python",
   "pygments_lexer": "ipython3",
   "version": "3.7.6"
  }
 },
 "nbformat": 4,
 "nbformat_minor": 4
}
