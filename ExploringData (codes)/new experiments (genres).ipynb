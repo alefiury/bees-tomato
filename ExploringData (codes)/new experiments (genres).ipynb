{
 "cells": [
  {
   "cell_type": "code",
   "execution_count": 1,
   "metadata": {},
   "outputs": [],
   "source": [
    "import csv\n",
    "import sys\n",
    "import pickle\n",
    "import pandas as pd\n",
    "import numpy as np\n",
    "from graphviz import Source\n",
    "from sklearn import tree\n",
    "from IPython.display import SVG\n",
    "from IPython.display import display\n",
    "from IPython.display import Image\n",
    "import matplotlib.pyplot as plt\n",
    "import seaborn as sns\n",
    "from sklearn.model_selection import StratifiedKFold\n",
    "from sklearn.svm import SVC\n",
    "from PIL import Image\n",
    "from sklearn.model_selection import GridSearchCV\n",
    "from sklearn.model_selection import train_test_split\n",
    "from sklearn import metrics\n",
    "from sklearn.preprocessing import StandardScaler\n",
    "from sklearn.ensemble import RandomForestClassifier\n",
    "from sklearn.linear_model import LogisticRegression\n",
    "from sklearn.tree import DecisionTreeClassifier\n",
    "from sklearn.ensemble import VotingClassifier\n",
    "import warnings\n",
    "warnings.filterwarnings('ignore')"
   ]
  },
  {
   "cell_type": "code",
   "execution_count": 2,
   "metadata": {},
   "outputs": [],
   "source": [
    "def read_dataset(tipo):\n",
    "    data = pd.read_csv('/home/alison/Documentos/Projeto-Tomate/datasets_generos/dataset_genero_mfcc.csv', sep=',')\n",
    "\n",
    "    if tipo == 'flor':\n",
    "        data = data[data['Annotation'] != 'voo']\n",
    "    elif tipo == 'voo':\n",
    "        data = data[data['Annotation'] == 'voo']\n",
    "\n",
    "    data = data.drop(['filename', 'Annotation'],axis=1)\n",
    "\n",
    "    classes = data.iloc[:, -1]\n",
    "    standard = StandardScaler()\n",
    "    matriz = standard.fit_transform(np.array(data.iloc[:, :-1]))\n",
    "    \n",
    "    X_train, X_test, y_train, y_test = train_test_split(matriz, classes, test_size=0.5, random_state=0)\n",
    "\n",
    "    return X_train, X_test, y_train, y_test"
   ]
  },
  {
   "cell_type": "code",
   "execution_count": 3,
   "metadata": {},
   "outputs": [],
   "source": [
    "def treino_teste(X_train, y_train, modelo, tuned_parameters, filename):\n",
    "    file_csv = filename + '.csv'\n",
    "    file_pdf = filename + '.pdf'\n",
    "    \n",
    "    kfold = StratifiedKFold(n_splits=5, shuffle=True, random_state=1)\n",
    "\n",
    "    score = 'f1_macro'\n",
    "\n",
    "    clf = GridSearchCV(modelo, tuned_parameters, scoring=score, cv=kfold)\n",
    "\n",
    "    clf.fit(X_train, y_train)\n",
    "\n",
    "    #y_true = clf.predict(X_test)\n",
    "    #if score == 'f1_macro':\n",
    "    #    c, p = y_true, y_pred\n",
    "    \n",
    "    #print(metrics.classification_report(y_true, y_pred))\n",
    "    #cm = pd.crosstab(c, p, rownames=['True'], colnames=['Predicted'], margins=True, dropna=False)\n",
    "    #cm.to_csv(file_csv, sep='\\t')\n",
    "\n",
    "    #fig = plt.figure(num=None, figsize=(10, 10), dpi=50, facecolor='w', edgecolor='k')\n",
    "    #tab_acertos = sns.heatmap(cm, cmap='PuRd', annot=True, annot_kws={'size':13}, cbar=False, square=True)\n",
    "    #tab_acertos.set_xticklabels(tab_acertos.get_xticklabels(), rotation=90) \n",
    "    #tab_acertos.get_figure().savefig(file_pdf)\n",
    "    #plt.show()\n",
    "    \n",
    "    return clf.best_params_"
   ]
  },
  {
   "cell_type": "markdown",
   "metadata": {},
   "source": [
    "## Classificação com SVM"
   ]
  },
  {
   "cell_type": "code",
   "execution_count": 4,
   "metadata": {},
   "outputs": [
    {
     "name": "stdout",
     "output_type": "stream",
     "text": [
      "{'C': 10, 'decision_function_shape': 'ovo', 'gamma': 0.01, 'kernel': 'rbf'}\n"
     ]
    }
   ],
   "source": [
    "# CLASSIFICAÇÃO SONICATION + FLIGHT\n",
    "X_train, X_test, y_train, y_test = read_dataset('ambos')\n",
    "\n",
    "tuned_parameters = [{'kernel': ['rbf'], 'gamma': [1e-2,1e-3,1e-4], 'C': [0.001, 0.1, 0.01, 1, 10], 'decision_function_shape': ['ovo']},\n",
    "                    {'kernel': ['poly'], 'gamma': [1e-2,1e-3,1e-4], 'C': [0.001, 0.1, 0.01, 1, 10], 'decision_function_shape': ['ovo']},\n",
    "                    {'kernel': ['sigmoid'], 'gamma': [1e-2,1e-3,1e-4], 'C': [0.001, 0.1, 0.01, 1, 10], 'decision_function_shape': ['ovo']}, \n",
    "                    {'kernel': ['linear'], 'C': [0.001, 0.1, 0.01, 1, 10], 'decision_function_shape': ['ovo']}]\n",
    "\n",
    "svc_model = SVC()\n",
    "best_params = treino_teste(X_train, y_train, svc_model, tuned_parameters, 'espcieSVMambos')\n",
    "print(best_params)"
   ]
  },
  {
   "cell_type": "code",
   "execution_count": 5,
   "metadata": {},
   "outputs": [
    {
     "name": "stdout",
     "output_type": "stream",
     "text": [
      "Acurácia...: 67.9012\n",
      "Precision..: 57.7927\n",
      "Recall.....: 60.4630\n",
      "F1-Score...: 58.5978\n",
      "\n",
      "                       precision    recall  f1-score   support\n",
      "\n",
      "       Augochloropsis       0.68      0.62      0.65        21\n",
      "               Bombus       0.46      0.54      0.50        24\n",
      "              Centris       0.75      0.75      0.75        12\n",
      "              Eulaema       0.00      0.00      0.00         1\n",
      "          Exomalopsis       0.75      0.74      0.74        53\n",
      "             Melipona       0.79      0.70      0.74        33\n",
      "Pseudoalglochloropsis       0.55      0.86      0.67         7\n",
      "             Xylocopa       0.64      0.64      0.64        11\n",
      "\n",
      "             accuracy                           0.68       162\n",
      "            macro avg       0.58      0.60      0.59       162\n",
      "         weighted avg       0.69      0.68      0.68       162\n",
      "\n",
      "\n"
     ]
    }
   ],
   "source": [
    "svc_best_model = SVC(C=10, decision_function_shape='ovo', gamma=0.01, kernel='rbf')\n",
    "\n",
    "svc_best_model.fit(X_train, y_train)\n",
    "\n",
    "y_pred = svc_best_model.predict(X_test)\n",
    "\n",
    "print(\"Acurácia...: %.4f\" %(metrics.accuracy_score(y_test, y_pred) * 100))\n",
    "print(\"Precision..: %.4f\" %(metrics.precision_score(y_test, y_pred, average='macro') * 100))\n",
    "print(\"Recall.....: %.4f\" %(metrics.recall_score(y_test, y_pred, average='macro') * 100))\n",
    "print(\"F1-Score...: %.4f\" %(metrics.f1_score(y_test, y_pred, average='macro') * 100))\n",
    "print()\n",
    "print(metrics.classification_report(y_test, y_pred))\n",
    "print()"
   ]
  },
  {
   "cell_type": "code",
   "execution_count": 6,
   "metadata": {},
   "outputs": [
    {
     "name": "stdout",
     "output_type": "stream",
     "text": [
      "{'C': 10, 'decision_function_shape': 'ovo', 'gamma': 0.01, 'kernel': 'rbf'}\n"
     ]
    }
   ],
   "source": [
    "#CLASSIFICAÇÃO SONICATION\n",
    "X_train, X_test, y_train, y_test = read_dataset('flor')\n",
    "\n",
    "tuned_parameters = [{'kernel': ['rbf'], 'gamma': [1e-2,1e-3,1e-4], 'C': [0.001, 0.1, 0.01, 1, 10], 'decision_function_shape': ['ovo']},\n",
    "                    {'kernel': ['poly'], 'gamma': [1e-2,1e-3,1e-4], 'C': [0.001, 0.1, 0.01, 1, 10], 'decision_function_shape': ['ovo']},\n",
    "                    {'kernel': ['sigmoid'], 'gamma': [1e-2,1e-3,1e-4], 'C': [0.001, 0.1, 0.01, 1, 10], 'decision_function_shape': ['ovo']}, \n",
    "                    {'kernel': ['linear'], 'C': [0.001, 0.1, 0.01, 1, 10], 'decision_function_shape': ['ovo']}]\n",
    "\n",
    "best_params = treino_teste(X_train, y_train, svc_model, tuned_parameters, 'especieSVMflor')\n",
    "print(best_params)"
   ]
  },
  {
   "cell_type": "code",
   "execution_count": 7,
   "metadata": {},
   "outputs": [
    {
     "name": "stdout",
     "output_type": "stream",
     "text": [
      "Acurácia...: 66.3636\n",
      "Precision..: 71.0431\n",
      "Recall.....: 54.7045\n",
      "F1-Score...: 58.0624\n",
      "\n",
      "                       precision    recall  f1-score   support\n",
      "\n",
      "       Augochloropsis       0.82      0.56      0.67        16\n",
      "               Bombus       0.47      0.47      0.47        17\n",
      "              Centris       1.00      0.20      0.33         5\n",
      "              Eulaema       1.00      1.00      1.00         1\n",
      "          Exomalopsis       0.74      0.92      0.82        38\n",
      "             Melipona       0.65      0.72      0.68        18\n",
      "Pseudoalglochloropsis       1.00      0.50      0.67        12\n",
      "             Xylocopa       0.00      0.00      0.00         3\n",
      "\n",
      "             accuracy                           0.66       110\n",
      "            macro avg       0.71      0.55      0.58       110\n",
      "         weighted avg       0.72      0.66      0.66       110\n",
      "\n",
      "\n"
     ]
    }
   ],
   "source": [
    "svc_best_model = SVC(C=10, decision_function_shape='ovo', gamma=0.01, kernel='rbf')\n",
    "\n",
    "svc_best_model.fit(X_train, y_train)\n",
    "\n",
    "y_pred = svc_best_model.predict(X_test)\n",
    "\n",
    "print(\"Acurácia...: %.4f\" %(metrics.accuracy_score(y_test, y_pred) * 100))\n",
    "print(\"Precision..: %.4f\" %(metrics.precision_score(y_test, y_pred, average='macro') * 100))\n",
    "print(\"Recall.....: %.4f\" %(metrics.recall_score(y_test, y_pred, average='macro') * 100))\n",
    "print(\"F1-Score...: %.4f\" %(metrics.f1_score(y_test, y_pred, average='macro') * 100))\n",
    "print()\n",
    "print(metrics.classification_report(y_test, y_pred))\n",
    "print()"
   ]
  },
  {
   "cell_type": "code",
   "execution_count": 8,
   "metadata": {},
   "outputs": [
    {
     "name": "stdout",
     "output_type": "stream",
     "text": [
      "{'C': 10, 'decision_function_shape': 'ovo', 'gamma': 0.01, 'kernel': 'rbf'}\n"
     ]
    }
   ],
   "source": [
    "#CLASSIFICAÇÃO FLIGHT\n",
    "X_train, X_test, y_train, y_test = read_dataset('voo')\n",
    "\n",
    "tuned_parameters = [{'kernel': ['rbf'], 'gamma': [1e-2,1e-3,1e-4], 'C': [0.001, 0.1, 0.01, 1, 10], 'decision_function_shape': ['ovo']},\n",
    "                    {'kernel': ['poly'], 'gamma': [1e-2,1e-3,1e-4], 'C': [0.001, 0.1, 0.01, 1, 10], 'decision_function_shape': ['ovo']},\n",
    "                    {'kernel': ['sigmoid'], 'gamma': [1e-2,1e-3,1e-4], 'C': [0.001, 0.1, 0.01, 1, 10], 'decision_function_shape': ['ovo']}, \n",
    "                    {'kernel': ['linear'], 'C': [0.001, 0.1, 0.01, 1, 10], 'decision_function_shape': ['ovo']}]\n",
    "\n",
    "best_params = treino_teste(X_train, y_train, svc_model, tuned_parameters, 'especieSVMvoo')\n",
    "print(best_params)"
   ]
  },
  {
   "cell_type": "code",
   "execution_count": 9,
   "metadata": {},
   "outputs": [
    {
     "name": "stdout",
     "output_type": "stream",
     "text": [
      "Acurácia...: 64.1509\n",
      "Precision..: 64.4426\n",
      "Recall.....: 60.4911\n",
      "F1-Score...: 60.2068\n",
      "\n",
      "                       precision    recall  f1-score   support\n",
      "\n",
      "       Augochloropsis       1.00      0.38      0.55         8\n",
      "               Bombus       0.71      1.00      0.83        10\n",
      "              Centris       0.83      0.71      0.77         7\n",
      "              Eulaema       1.00      1.00      1.00         1\n",
      "          Exomalopsis       0.40      0.50      0.44         8\n",
      "             Melipona       0.64      0.58      0.61        12\n",
      "Pseudoalglochloropsis       0.00      0.00      0.00         1\n",
      "             Xylocopa       0.57      0.67      0.62         6\n",
      "\n",
      "             accuracy                           0.64        53\n",
      "            macro avg       0.64      0.60      0.60        53\n",
      "         weighted avg       0.68      0.64      0.63        53\n",
      "\n",
      "\n"
     ]
    }
   ],
   "source": [
    "svc_best_model = SVC(C=10, decision_function_shape='ovo', gamma=0.01, kernel='rbf')\n",
    "\n",
    "svc_best_model.fit(X_train, y_train)\n",
    "\n",
    "y_pred = svc_best_model.predict(X_test)\n",
    "\n",
    "print(\"Acurácia...: %.4f\" %(metrics.accuracy_score(y_test, y_pred) * 100))\n",
    "print(\"Precision..: %.4f\" %(metrics.precision_score(y_test, y_pred, average='macro') * 100))\n",
    "print(\"Recall.....: %.4f\" %(metrics.recall_score(y_test, y_pred, average='macro') * 100))\n",
    "print(\"F1-Score...: %.4f\" %(metrics.f1_score(y_test, y_pred, average='macro') * 100))\n",
    "print()\n",
    "print(metrics.classification_report(y_test, y_pred))\n",
    "print()"
   ]
  },
  {
   "cell_type": "markdown",
   "metadata": {},
   "source": [
    "## Classificação LR"
   ]
  },
  {
   "cell_type": "code",
   "execution_count": 10,
   "metadata": {},
   "outputs": [
    {
     "name": "stdout",
     "output_type": "stream",
     "text": [
      "{'penalty': 'l2'}\n"
     ]
    }
   ],
   "source": [
    "#CLASSIFICAÇÃO SONICATION + FLIGHT\n",
    "X_train, X_test, y_train, y_test = read_dataset('ambos')\n",
    "\n",
    "tuned_parameters = [{'penalty': ['l1', 'l2']},\n",
    "                    {'C': [0.001, 0.1, 1, 10, 100]}]\n",
    "\n",
    "lr_model = LogisticRegression()\n",
    "best_params = treino_teste(X_train, y_train, lr_model, tuned_parameters, 'especieLRambos')\n",
    "print(best_params)"
   ]
  },
  {
   "cell_type": "code",
   "execution_count": 12,
   "metadata": {},
   "outputs": [
    {
     "name": "stdout",
     "output_type": "stream",
     "text": [
      "Acurácia...: 62.3457\n",
      "Precision..: 51.4969\n",
      "Recall.....: 55.7696\n",
      "F1-Score...: 52.3808\n",
      "\n",
      "                       precision    recall  f1-score   support\n",
      "\n",
      "       Augochloropsis       0.73      0.52      0.61        21\n",
      "               Bombus       0.38      0.25      0.30        24\n",
      "              Centris       0.69      0.75      0.72        12\n",
      "              Eulaema       0.00      0.00      0.00         1\n",
      "          Exomalopsis       0.69      0.72      0.70        53\n",
      "             Melipona       0.67      0.73      0.70        33\n",
      "Pseudoalglochloropsis       0.46      0.86      0.60         7\n",
      "             Xylocopa       0.50      0.64      0.56        11\n",
      "\n",
      "             accuracy                           0.62       162\n",
      "            macro avg       0.51      0.56      0.52       162\n",
      "         weighted avg       0.62      0.62      0.61       162\n",
      "\n",
      "\n"
     ]
    }
   ],
   "source": [
    "lr_best_model = LogisticRegression(penalty='l2')\n",
    "\n",
    "lr_best_model.fit(X_train, y_train)\n",
    "\n",
    "y_pred = lr_best_model.predict(X_test)\n",
    "\n",
    "print(\"Acurácia...: %.4f\" %(metrics.accuracy_score(y_test, y_pred) * 100))\n",
    "print(\"Precision..: %.4f\" %(metrics.precision_score(y_test, y_pred, average='macro') * 100))\n",
    "print(\"Recall.....: %.4f\" %(metrics.recall_score(y_test, y_pred, average='macro') * 100))\n",
    "print(\"F1-Score...: %.4f\" %(metrics.f1_score(y_test, y_pred, average='macro') * 100))\n",
    "print()\n",
    "print(metrics.classification_report(y_test, y_pred))\n",
    "print()"
   ]
  },
  {
   "cell_type": "code",
   "execution_count": 13,
   "metadata": {},
   "outputs": [
    {
     "name": "stdout",
     "output_type": "stream",
     "text": [
      "{'penalty': 'l2'}\n"
     ]
    }
   ],
   "source": [
    "#CLASSIFICAÇÃO SONICATION\n",
    "X_train, X_test, y_train, y_test = read_dataset('flor')\n",
    "\n",
    "tuned_parameters = [{'penalty': ['l1', 'l2']},\n",
    "                    {'C': [0.001, 0.1, 1, 10, 100]}]\n",
    "\n",
    "lr_model = LogisticRegression()\n",
    "best_params = treino_teste(X_train, y_train, lr_model, tuned_parameters, 'especieLRflor')\n",
    "print(best_params)"
   ]
  },
  {
   "cell_type": "code",
   "execution_count": 14,
   "metadata": {},
   "outputs": [
    {
     "name": "stdout",
     "output_type": "stream",
     "text": [
      "Acurácia...: 60.9091\n",
      "Precision..: 56.7106\n",
      "Recall.....: 49.9156\n",
      "F1-Score...: 51.5538\n",
      "\n",
      "                       precision    recall  f1-score   support\n",
      "\n",
      "       Augochloropsis       0.86      0.38      0.52        16\n",
      "               Bombus       0.40      0.47      0.43        17\n",
      "              Centris       0.00      0.00      0.00         5\n",
      "              Eulaema       1.00      1.00      1.00         1\n",
      "          Exomalopsis       0.64      0.84      0.73        38\n",
      "             Melipona       0.76      0.72      0.74        18\n",
      "Pseudoalglochloropsis       0.88      0.58      0.70        12\n",
      "             Xylocopa       0.00      0.00      0.00         3\n",
      "\n",
      "             accuracy                           0.61       110\n",
      "            macro avg       0.57      0.50      0.52       110\n",
      "         weighted avg       0.64      0.61      0.60       110\n",
      "\n",
      "\n"
     ]
    }
   ],
   "source": [
    "lr_best_model = LogisticRegression(penalty='l2')\n",
    "\n",
    "lr_best_model.fit(X_train, y_train)\n",
    "\n",
    "y_pred = lr_best_model.predict(X_test)\n",
    "\n",
    "print(\"Acurácia...: %.4f\" %(metrics.accuracy_score(y_test, y_pred) * 100))\n",
    "print(\"Precision..: %.4f\" %(metrics.precision_score(y_test, y_pred, average='macro') * 100))\n",
    "print(\"Recall.....: %.4f\" %(metrics.recall_score(y_test, y_pred, average='macro') * 100))\n",
    "print(\"F1-Score...: %.4f\" %(metrics.f1_score(y_test, y_pred, average='macro') * 100))\n",
    "print()\n",
    "print(metrics.classification_report(y_test, y_pred))\n",
    "print()"
   ]
  },
  {
   "cell_type": "code",
   "execution_count": 15,
   "metadata": {},
   "outputs": [
    {
     "name": "stdout",
     "output_type": "stream",
     "text": [
      "{'penalty': 'l2'}\n"
     ]
    }
   ],
   "source": [
    "#CLASSIFICAÇÃO SONICATION + FLIGHT\n",
    "X_train, X_test, y_train, y_test = read_dataset('voo')\n",
    "\n",
    "tuned_parameters = [{'penalty': ['l1', 'l2']},\n",
    "                    {'C': [0.001, 0.1, 1, 10, 100]}]\n",
    "\n",
    "lr_model = LogisticRegression()\n",
    "best_params = treino_teste(X_train, y_train, lr_model, tuned_parameters, 'especieLRvoo')\n",
    "print(best_params)"
   ]
  },
  {
   "cell_type": "code",
   "execution_count": 16,
   "metadata": {},
   "outputs": [
    {
     "name": "stdout",
     "output_type": "stream",
     "text": [
      "Acurácia...: 60.3774\n",
      "Precision..: 65.2540\n",
      "Recall.....: 56.6369\n",
      "F1-Score...: 57.0270\n",
      "\n",
      "                       precision    recall  f1-score   support\n",
      "\n",
      "       Augochloropsis       1.00      0.25      0.40         8\n",
      "               Bombus       0.53      0.90      0.67        10\n",
      "              Centris       1.00      0.71      0.83         7\n",
      "              Eulaema       1.00      1.00      1.00         1\n",
      "          Exomalopsis       0.36      0.50      0.42         8\n",
      "             Melipona       0.73      0.67      0.70        12\n",
      "Pseudoalglochloropsis       0.00      0.00      0.00         1\n",
      "             Xylocopa       0.60      0.50      0.55         6\n",
      "\n",
      "             accuracy                           0.60        53\n",
      "            macro avg       0.65      0.57      0.57        53\n",
      "         weighted avg       0.69      0.60      0.60        53\n",
      "\n",
      "\n"
     ]
    }
   ],
   "source": [
    "lr_best_model = LogisticRegression(penalty='l2')\n",
    "\n",
    "lr_best_model.fit(X_train, y_train)\n",
    "\n",
    "y_pred = lr_best_model.predict(X_test)\n",
    "\n",
    "print(\"Acurácia...: %.4f\" %(metrics.accuracy_score(y_test, y_pred) * 100))\n",
    "print(\"Precision..: %.4f\" %(metrics.precision_score(y_test, y_pred, average='macro') * 100))\n",
    "print(\"Recall.....: %.4f\" %(metrics.recall_score(y_test, y_pred, average='macro') * 100))\n",
    "print(\"F1-Score...: %.4f\" %(metrics.f1_score(y_test, y_pred, average='macro') * 100))\n",
    "print()\n",
    "print(metrics.classification_report(y_test, y_pred))\n",
    "print()"
   ]
  },
  {
   "cell_type": "markdown",
   "metadata": {},
   "source": [
    "## Classificação RF"
   ]
  },
  {
   "cell_type": "code",
   "execution_count": 17,
   "metadata": {},
   "outputs": [
    {
     "name": "stdout",
     "output_type": "stream",
     "text": [
      "{'max_features': 'sqrt', 'n_estimators': 100}\n"
     ]
    }
   ],
   "source": [
    "#CLASSIFICAÇÃO SONICATION + FLIGHT\n",
    "X_train, X_test, y_train, y_test = read_dataset('ambos')\n",
    "\n",
    "tuned_parameters = {'n_estimators': [100, 200],\n",
    "                    'max_features': ['auto', 'sqrt', 'log2']}\n",
    "\n",
    "rf_model = RandomForestClassifier()\n",
    "best_param = treino_teste(X_train, y_train, rf_model, tuned_parameters, 'especieRFambos')\n",
    "print(best_param)"
   ]
  },
  {
   "cell_type": "code",
   "execution_count": 19,
   "metadata": {},
   "outputs": [
    {
     "name": "stdout",
     "output_type": "stream",
     "text": [
      "Acurácia...: 61.1111\n",
      "Precision..: 52.4607\n",
      "Recall.....: 47.9576\n",
      "F1-Score...: 48.3123\n",
      "\n",
      "                       precision    recall  f1-score   support\n",
      "\n",
      "       Augochloropsis       0.75      0.43      0.55        21\n",
      "               Bombus       0.35      0.29      0.32        24\n",
      "              Centris       0.88      0.58      0.70        12\n",
      "              Eulaema       0.00      0.00      0.00         1\n",
      "          Exomalopsis       0.69      0.85      0.76        53\n",
      "             Melipona       0.57      0.70      0.63        33\n",
      "Pseudoalglochloropsis       0.45      0.71      0.56         7\n",
      "             Xylocopa       0.50      0.27      0.35        11\n",
      "\n",
      "             accuracy                           0.61       162\n",
      "            macro avg       0.52      0.48      0.48       162\n",
      "         weighted avg       0.61      0.61      0.60       162\n",
      "\n",
      "\n"
     ]
    }
   ],
   "source": [
    "rf_best_model = RandomForestClassifier(max_features='auto', n_estimators=100)\n",
    "\n",
    "rf_best_model.fit(X_train, y_train)\n",
    "\n",
    "y_pred = rf_best_model.predict(X_test)\n",
    "\n",
    "print(\"Acurácia...: %.4f\" %(metrics.accuracy_score(y_test, y_pred) * 100))\n",
    "print(\"Precision..: %.4f\" %(metrics.precision_score(y_test, y_pred, average='macro') * 100))\n",
    "print(\"Recall.....: %.4f\" %(metrics.recall_score(y_test, y_pred, average='macro') * 100))\n",
    "print(\"F1-Score...: %.4f\" %(metrics.f1_score(y_test, y_pred, average='macro') * 100))\n",
    "print()\n",
    "print(metrics.classification_report(y_test, y_pred))\n",
    "print()"
   ]
  },
  {
   "cell_type": "code",
   "execution_count": 20,
   "metadata": {},
   "outputs": [
    {
     "name": "stdout",
     "output_type": "stream",
     "text": [
      "{'max_features': 'auto', 'n_estimators': 200}\n"
     ]
    }
   ],
   "source": [
    "#CLASSIFICAÇÃO SONICATION\n",
    "X_train, X_test, y_train, y_test = read_dataset('flor')\n",
    "\n",
    "tuned_parameters = {'n_estimators': [100, 200],\n",
    "                    'max_features': ['auto', 'sqrt', 'log2']}\n",
    "\n",
    "rf_model = RandomForestClassifier()\n",
    "best_param = treino_teste(X_train, y_train, rf_model, tuned_parameters, 'especieRFflor')\n",
    "print(best_param)"
   ]
  },
  {
   "cell_type": "code",
   "execution_count": 23,
   "metadata": {},
   "outputs": [
    {
     "name": "stdout",
     "output_type": "stream",
     "text": [
      "Acurácia...: 62.7273\n",
      "Precision..: 46.1992\n",
      "Recall.....: 36.9362\n",
      "F1-Score...: 38.2138\n",
      "\n",
      "                       precision    recall  f1-score   support\n",
      "\n",
      "       Augochloropsis       1.00      0.38      0.55        16\n",
      "               Bombus       0.54      0.41      0.47        17\n",
      "              Centris       0.00      0.00      0.00         5\n",
      "              Eulaema       0.00      0.00      0.00         1\n",
      "          Exomalopsis       0.59      0.97      0.73        38\n",
      "             Melipona       0.74      0.78      0.76        18\n",
      "Pseudoalglochloropsis       0.83      0.42      0.56        12\n",
      "             Xylocopa       0.00      0.00      0.00         3\n",
      "\n",
      "             accuracy                           0.63       110\n",
      "            macro avg       0.46      0.37      0.38       110\n",
      "         weighted avg       0.64      0.63      0.59       110\n",
      "\n",
      "\n"
     ]
    }
   ],
   "source": [
    "rf_best_model = RandomForestClassifier(max_features='auto', n_estimators=100)\n",
    "\n",
    "rf_best_model.fit(X_train, y_train)\n",
    "\n",
    "y_pred = rf_best_model.predict(X_test)\n",
    "\n",
    "print(\"Acurácia...: %.4f\" %(metrics.accuracy_score(y_test, y_pred) * 100))\n",
    "print(\"Precision..: %.4f\" %(metrics.precision_score(y_test, y_pred, average='macro') * 100))\n",
    "print(\"Recall.....: %.4f\" %(metrics.recall_score(y_test, y_pred, average='macro') * 100))\n",
    "print(\"F1-Score...: %.4f\" %(metrics.f1_score(y_test, y_pred, average='macro') * 100))\n",
    "print()\n",
    "print(metrics.classification_report(y_test, y_pred))\n",
    "print()"
   ]
  },
  {
   "cell_type": "code",
   "execution_count": 24,
   "metadata": {},
   "outputs": [
    {
     "name": "stdout",
     "output_type": "stream",
     "text": [
      "{'max_features': 'log2', 'n_estimators': 200}\n"
     ]
    }
   ],
   "source": [
    "#CLASSIFICAÇÃO FLIGHT\n",
    "X_train, X_test, y_train, y_test = read_dataset('voo')\n",
    "\n",
    "tuned_parameters = {'n_estimators': [100, 200],\n",
    "                    'max_features': ['auto', 'sqrt', 'log2']}\n",
    "\n",
    "rf_model = RandomForestClassifier()\n",
    "best_param = treino_teste(X_train, y_train, rf_model, tuned_parameters, 'especieRFvoo')\n",
    "print(best_param)"
   ]
  },
  {
   "cell_type": "code",
   "execution_count": 31,
   "metadata": {},
   "outputs": [
    {
     "name": "stdout",
     "output_type": "stream",
     "text": [
      "Acurácia...: 56.6038\n",
      "Precision..: 43.4926\n",
      "Recall.....: 42.5744\n",
      "F1-Score...: 41.3199\n",
      "\n",
      "                       precision    recall  f1-score   support\n",
      "\n",
      "       Augochloropsis       0.50      0.25      0.33         8\n",
      "               Bombus       0.53      0.90      0.67        10\n",
      "              Centris       0.83      0.71      0.77         7\n",
      "              Eulaema       0.00      0.00      0.00         1\n",
      "          Exomalopsis       0.42      0.62      0.50         8\n",
      "             Melipona       0.70      0.58      0.64        12\n",
      "Pseudoalglochloropsis       0.00      0.00      0.00         1\n",
      "             Xylocopa       0.50      0.33      0.40         6\n",
      "\n",
      "             accuracy                           0.57        53\n",
      "            macro avg       0.43      0.43      0.41        53\n",
      "         weighted avg       0.56      0.57      0.54        53\n",
      "\n",
      "\n"
     ]
    }
   ],
   "source": [
    "rf_best_model = RandomForestClassifier(max_features='log2', n_estimators=200)\n",
    "\n",
    "rf_best_model.fit(X_train, y_train)\n",
    "\n",
    "y_pred = rf_best_model.predict(X_test)\n",
    "\n",
    "print(\"Acurácia...: %.4f\" %(metrics.accuracy_score(y_test, y_pred) * 100))\n",
    "print(\"Precision..: %.4f\" %(metrics.precision_score(y_test, y_pred, average='macro') * 100))\n",
    "print(\"Recall.....: %.4f\" %(metrics.recall_score(y_test, y_pred, average='macro') * 100))\n",
    "print(\"F1-Score...: %.4f\" %(metrics.f1_score(y_test, y_pred, average='macro') * 100))\n",
    "print()\n",
    "print(metrics.classification_report(y_test, y_pred))\n",
    "print()"
   ]
  },
  {
   "cell_type": "markdown",
   "metadata": {},
   "source": [
    "## Classificação DTree"
   ]
  },
  {
   "cell_type": "code",
   "execution_count": 32,
   "metadata": {},
   "outputs": [
    {
     "name": "stdout",
     "output_type": "stream",
     "text": [
      "{'criterion': 'entropy', 'max_depth': 5, 'min_samples_split': 2}\n"
     ]
    }
   ],
   "source": [
    "#CLASSIFICAÇÃO SONICATION + FLIGHT\n",
    "X_train, X_test, y_train, y_test = read_dataset('ambos')\n",
    "\n",
    "tuned_parameters = {\"criterion\": [\"gini\", \"entropy\"],\n",
    "                    \"min_samples_split\": [2, 10],\n",
    "                    \"max_depth\": [2, 5, 10]\n",
    "                    }\n",
    "\n",
    "detree_model = DecisionTreeClassifier()\n",
    "best_param = treino_teste(X_train, y_train, detree_model, tuned_parameters, 'especieDTREEambos')\n",
    "print(best_param)"
   ]
  },
  {
   "cell_type": "code",
   "execution_count": 35,
   "metadata": {},
   "outputs": [
    {
     "name": "stdout",
     "output_type": "stream",
     "text": [
      "Acurácia...: 39.5062\n",
      "Precision..: 28.9132\n",
      "Recall.....: 31.6714\n",
      "F1-Score...: 28.5297\n",
      "\n",
      "                       precision    recall  f1-score   support\n",
      "\n",
      "       Augochloropsis       0.42      0.38      0.40        21\n",
      "               Bombus       0.23      0.42      0.29        24\n",
      "              Centris       0.24      0.33      0.28        12\n",
      "              Eulaema       0.00      0.00      0.00         1\n",
      "          Exomalopsis       0.72      0.53      0.61        53\n",
      "             Melipona       0.48      0.30      0.37        33\n",
      "Pseudoalglochloropsis       0.24      0.57      0.33         7\n",
      "             Xylocopa       0.00      0.00      0.00        11\n",
      "\n",
      "             accuracy                           0.40       162\n",
      "            macro avg       0.29      0.32      0.29       162\n",
      "         weighted avg       0.45      0.40      0.40       162\n",
      "\n",
      "\n"
     ]
    }
   ],
   "source": [
    "dtree_best_model = DecisionTreeClassifier(criterion='entropy', max_depth=5, min_samples_split=2)\n",
    "\n",
    "dtree_best_model.fit(X_train, y_train)\n",
    "\n",
    "y_pred = dtree_best_model.predict(X_test)\n",
    "\n",
    "print(\"Acurácia...: %.4f\" %(metrics.accuracy_score(y_test, y_pred) * 100))\n",
    "print(\"Precision..: %.4f\" %(metrics.precision_score(y_test, y_pred, average='macro') * 100))\n",
    "print(\"Recall.....: %.4f\" %(metrics.recall_score(y_test, y_pred, average='macro') * 100))\n",
    "print(\"F1-Score...: %.4f\" %(metrics.f1_score(y_test, y_pred, average='macro') * 100))\n",
    "print()\n",
    "print(metrics.classification_report(y_test, y_pred))\n",
    "print()"
   ]
  },
  {
   "cell_type": "code",
   "execution_count": 36,
   "metadata": {},
   "outputs": [
    {
     "name": "stdout",
     "output_type": "stream",
     "text": [
      "{'criterion': 'entropy', 'max_depth': 5, 'min_samples_split': 2}\n"
     ]
    }
   ],
   "source": [
    "#CLASSIFICAÇÃO SONICATION\n",
    "X_train, X_test, y_train, y_test = read_dataset('flor')\n",
    "\n",
    "tuned_parameters = {\"criterion\": [\"gini\", \"entropy\"],\n",
    "                    \"min_samples_split\": [2, 10],\n",
    "                    \"max_depth\": [2, 5, 10]\n",
    "                    }\n",
    "\n",
    "detree_model = DecisionTreeClassifier()\n",
    "best_param = treino_teste(X_train, y_train, detree_model, tuned_parameters, 'especieDTREEflor')\n",
    "print(best_param)"
   ]
  },
  {
   "cell_type": "code",
   "execution_count": 37,
   "metadata": {},
   "outputs": [
    {
     "name": "stdout",
     "output_type": "stream",
     "text": [
      "Acurácia...: 43.6364\n",
      "Precision..: 25.2731\n",
      "Recall.....: 25.5840\n",
      "F1-Score...: 25.2677\n",
      "\n",
      "                       precision    recall  f1-score   support\n",
      "\n",
      "       Augochloropsis       0.27      0.19      0.22        16\n",
      "               Bombus       0.17      0.18      0.17        17\n",
      "              Centris       0.00      0.00      0.00         5\n",
      "              Eulaema       0.00      0.00      0.00         1\n",
      "          Exomalopsis       0.63      0.71      0.67        38\n",
      "             Melipona       0.50      0.56      0.53        18\n",
      "Pseudoalglochloropsis       0.45      0.42      0.43        12\n",
      "             Xylocopa       0.00      0.00      0.00         3\n",
      "\n",
      "             accuracy                           0.44       110\n",
      "            macro avg       0.25      0.26      0.25       110\n",
      "         weighted avg       0.41      0.44      0.42       110\n",
      "\n",
      "\n"
     ]
    }
   ],
   "source": [
    "dtree_best_model = DecisionTreeClassifier(criterion='entropy', max_depth=5, min_samples_split=2)\n",
    "\n",
    "dtree_best_model.fit(X_train, y_train)\n",
    "\n",
    "y_pred = dtree_best_model.predict(X_test)\n",
    "\n",
    "print(\"Acurácia...: %.4f\" %(metrics.accuracy_score(y_test, y_pred) * 100))\n",
    "print(\"Precision..: %.4f\" %(metrics.precision_score(y_test, y_pred, average='macro') * 100))\n",
    "print(\"Recall.....: %.4f\" %(metrics.recall_score(y_test, y_pred, average='macro') * 100))\n",
    "print(\"F1-Score...: %.4f\" %(metrics.f1_score(y_test, y_pred, average='macro') * 100))\n",
    "print()\n",
    "print(metrics.classification_report(y_test, y_pred))\n",
    "print()"
   ]
  },
  {
   "cell_type": "code",
   "execution_count": 38,
   "metadata": {},
   "outputs": [
    {
     "name": "stdout",
     "output_type": "stream",
     "text": [
      "{'criterion': 'gini', 'max_depth': 2, 'min_samples_split': 2}\n"
     ]
    }
   ],
   "source": [
    "#CLASSIFICAÇÃO FLIGHT\n",
    "X_train, X_test, y_train, y_test = read_dataset('voo')\n",
    "\n",
    "tuned_parameters = {\"criterion\": [\"gini\", \"entropy\"],\n",
    "                    \"min_samples_split\": [2, 10],\n",
    "                    \"max_depth\": [2, 5, 10]\n",
    "                    }\n",
    "\n",
    "detree_model = DecisionTreeClassifier()\n",
    "best_param = treino_teste(X_train, y_train, detree_model, tuned_parameters, 'especieDTREEvoo')\n",
    "print(best_param)"
   ]
  },
  {
   "cell_type": "code",
   "execution_count": 41,
   "metadata": {},
   "outputs": [
    {
     "name": "stdout",
     "output_type": "stream",
     "text": [
      "Acurácia...: 39.6226\n",
      "Precision..: 20.9226\n",
      "Recall.....: 28.7946\n",
      "F1-Score...: 21.8583\n",
      "\n",
      "                       precision    recall  f1-score   support\n",
      "\n",
      "       Augochloropsis       0.00      0.00      0.00         8\n",
      "               Bombus       0.42      1.00      0.59        10\n",
      "              Centris       0.30      0.43      0.35         7\n",
      "              Eulaema       0.00      0.00      0.00         1\n",
      "          Exomalopsis       0.36      0.62      0.45         8\n",
      "             Melipona       0.60      0.25      0.35        12\n",
      "Pseudoalglochloropsis       0.00      0.00      0.00         1\n",
      "             Xylocopa       0.00      0.00      0.00         6\n",
      "\n",
      "             accuracy                           0.40        53\n",
      "            macro avg       0.21      0.29      0.22        53\n",
      "         weighted avg       0.31      0.40      0.31        53\n",
      "\n",
      "\n"
     ]
    }
   ],
   "source": [
    "dtree_best_model = DecisionTreeClassifier(criterion='gini', max_depth=2, min_samples_split=10)\n",
    "\n",
    "dtree_best_model.fit(X_train, y_train)\n",
    "\n",
    "y_pred = dtree_best_model.predict(X_test)\n",
    "\n",
    "print(\"Acurácia...: %.4f\" %(metrics.accuracy_score(y_test, y_pred) * 100))\n",
    "print(\"Precision..: %.4f\" %(metrics.precision_score(y_test, y_pred, average='macro') * 100))\n",
    "print(\"Recall.....: %.4f\" %(metrics.recall_score(y_test, y_pred, average='macro') * 100))\n",
    "print(\"F1-Score...: %.4f\" %(metrics.f1_score(y_test, y_pred, average='macro') * 100))\n",
    "print()\n",
    "print(metrics.classification_report(y_test, y_pred))\n",
    "print()"
   ]
  },
  {
   "cell_type": "markdown",
   "metadata": {},
   "source": [
    "## Classificação Ensemble"
   ]
  },
  {
   "cell_type": "code",
   "execution_count": 42,
   "metadata": {},
   "outputs": [
    {
     "name": "stdout",
     "output_type": "stream",
     "text": [
      "{'lr__C': 100, 'svc__C': 10}\n"
     ]
    }
   ],
   "source": [
    "#CLASSIFICAÇÃO SONICATION + FLIGHT\n",
    "X_train, X_test, y_train, y_test = read_dataset('ambos')\n",
    "\n",
    "tuned_parameters = {'lr__C': [0.001, 0.1, 1, 10, 100],\n",
    "                    'svc__C': [0.001, 0.1, 0.01, 1, 10]}\n",
    "\n",
    "svc = SVC()\n",
    "rf = RandomForestClassifier()\n",
    "lr = LogisticRegression()\n",
    "\n",
    "modelos = [('svc', svc), ('rf', rf), ('lr', lr)]\n",
    "\n",
    "votingclf = VotingClassifier(estimators=modelos, voting='hard')\n",
    "best_param = treino_teste(X_train, y_train, votingclf, tuned_parameters, 'especieENSEMBLEambos')\n",
    "print(best_param)"
   ]
  },
  {
   "cell_type": "code",
   "execution_count": 45,
   "metadata": {},
   "outputs": [
    {
     "name": "stdout",
     "output_type": "stream",
     "text": [
      "Acurácia...: 68.5185\n",
      "Precision..: 60.5691\n",
      "Recall.....: 55.5884\n",
      "F1-Score...: 56.7396\n",
      "\n",
      "                       precision    recall  f1-score   support\n",
      "\n",
      "       Augochloropsis       0.73      0.52      0.61        21\n",
      "               Bombus       0.45      0.58      0.51        24\n",
      "              Centris       0.78      0.58      0.67        12\n",
      "              Eulaema       0.00      0.00      0.00         1\n",
      "          Exomalopsis       0.76      0.83      0.79        53\n",
      "             Melipona       0.74      0.76      0.75        33\n",
      "Pseudoalglochloropsis       0.56      0.71      0.63         7\n",
      "             Xylocopa       0.83      0.45      0.59        11\n",
      "\n",
      "             accuracy                           0.69       162\n",
      "            macro avg       0.61      0.56      0.57       162\n",
      "         weighted avg       0.70      0.69      0.68       162\n",
      "\n",
      "\n"
     ]
    }
   ],
   "source": [
    "best_svc = SVC(C=10)\n",
    "rf = RandomForestClassifier()\n",
    "best_lr = LogisticRegression(C=1)\n",
    "\n",
    "modelos = [('svc', best_svc), ('rf', rf), ('lr', best_lr)]\n",
    "\n",
    "best_votingclf = VotingClassifier(estimators=modelos, voting='hard')\n",
    "\n",
    "best_votingclf.fit(X_train, y_train)\n",
    "\n",
    "y_pred = best_votingclf.predict(X_test)\n",
    "\n",
    "print(\"Acurácia...: %.4f\" %(metrics.accuracy_score(y_test, y_pred) * 100))\n",
    "print(\"Precision..: %.4f\" %(metrics.precision_score(y_test, y_pred, average='macro') * 100))\n",
    "print(\"Recall.....: %.4f\" %(metrics.recall_score(y_test, y_pred, average='macro') * 100))\n",
    "print(\"F1-Score...: %.4f\" %(metrics.f1_score(y_test, y_pred, average='macro') * 100))\n",
    "print()\n",
    "print(metrics.classification_report(y_test, y_pred))\n",
    "print()"
   ]
  },
  {
   "cell_type": "code",
   "execution_count": 46,
   "metadata": {},
   "outputs": [
    {
     "name": "stdout",
     "output_type": "stream",
     "text": [
      "{'lr__C': 10, 'svc__C': 10}\n"
     ]
    }
   ],
   "source": [
    "#CLASSIFICAÇÃO SONICATION\n",
    "X_train, X_test, y_train, y_test = read_dataset('flor')\n",
    "\n",
    "tuned_parameters = {'lr__C': [0.001, 0.1, 1, 10, 100],\n",
    "                    'svc__C': [0.001, 0.1, 0.01, 1, 10]}\n",
    "\n",
    "svc = SVC()\n",
    "rf = RandomForestClassifier()\n",
    "lr = LogisticRegression()\n",
    "\n",
    "modelos = [('svc', svc), ('rf', rf), ('lr', lr)]\n",
    "\n",
    "votingclf = VotingClassifier(estimators=modelos, voting='hard')\n",
    "best_param = treino_teste(X_train, y_train, votingclf, tuned_parameters, 'especieENSEMBLEflor')\n",
    "print(best_param)"
   ]
  },
  {
   "cell_type": "code",
   "execution_count": 47,
   "metadata": {},
   "outputs": [
    {
     "name": "stdout",
     "output_type": "stream",
     "text": [
      "Acurácia...: 67.2727\n",
      "Precision..: 47.8655\n",
      "Recall.....: 41.9104\n",
      "F1-Score...: 42.9794\n",
      "\n",
      "                       precision    recall  f1-score   support\n",
      "\n",
      "       Augochloropsis       0.90      0.56      0.69        16\n",
      "               Bombus       0.48      0.65      0.55        17\n",
      "              Centris       0.00      0.00      0.00         5\n",
      "              Eulaema       0.00      0.00      0.00         1\n",
      "          Exomalopsis       0.69      0.92      0.79        38\n",
      "             Melipona       0.76      0.72      0.74        18\n",
      "Pseudoalglochloropsis       1.00      0.50      0.67        12\n",
      "             Xylocopa       0.00      0.00      0.00         3\n",
      "\n",
      "             accuracy                           0.67       110\n",
      "            macro avg       0.48      0.42      0.43       110\n",
      "         weighted avg       0.68      0.67      0.65       110\n",
      "\n",
      "\n"
     ]
    }
   ],
   "source": [
    "best_svc = SVC(C=10)\n",
    "rf = RandomForestClassifier()\n",
    "best_lr = LogisticRegression(C=10)\n",
    "\n",
    "modelos = [('svc', best_svc), ('rf', rf), ('lr', best_lr)]\n",
    "\n",
    "best_votingclf = VotingClassifier(estimators=modelos, voting='hard')\n",
    "\n",
    "best_votingclf.fit(X_train, y_train)\n",
    "\n",
    "y_pred = best_votingclf.predict(X_test)\n",
    "\n",
    "print(\"Acurácia...: %.4f\" %(metrics.accuracy_score(y_test, y_pred) * 100))\n",
    "print(\"Precision..: %.4f\" %(metrics.precision_score(y_test, y_pred, average='macro') * 100))\n",
    "print(\"Recall.....: %.4f\" %(metrics.recall_score(y_test, y_pred, average='macro') * 100))\n",
    "print(\"F1-Score...: %.4f\" %(metrics.f1_score(y_test, y_pred, average='macro') * 100))\n",
    "print()\n",
    "print(metrics.classification_report(y_test, y_pred))\n",
    "print()"
   ]
  },
  {
   "cell_type": "code",
   "execution_count": 48,
   "metadata": {},
   "outputs": [
    {
     "name": "stdout",
     "output_type": "stream",
     "text": [
      "{'lr__C': 100, 'svc__C': 10}\n"
     ]
    }
   ],
   "source": [
    "#CLASSIFICAÇÃO FLIGHT\n",
    "X_train, X_test, y_train, y_test = read_dataset('voo')\n",
    "\n",
    "tuned_parameters = {'lr__C': [0.001, 0.1, 1, 10, 100],\n",
    "                    'svc__C': [0.001, 0.1, 0.01, 1, 10]}\n",
    "\n",
    "svc = SVC()\n",
    "rf = RandomForestClassifier()\n",
    "lr = LogisticRegression()\n",
    "\n",
    "modelos = [('svc', svc), ('rf', rf), ('lr', lr)]\n",
    "\n",
    "votingclf = VotingClassifier(estimators=modelos, voting='hard')\n",
    "best_param = treino_teste(X_train, y_train, votingclf, tuned_parameters, 'especieENSEMBLEvoo')\n",
    "print(best_param)"
   ]
  },
  {
   "cell_type": "code",
   "execution_count": 50,
   "metadata": {},
   "outputs": [
    {
     "name": "stdout",
     "output_type": "stream",
     "text": [
      "Acurácia...: 60.3774\n",
      "Precision..: 60.3706\n",
      "Recall.....: 56.8452\n",
      "F1-Score...: 56.3348\n",
      "\n",
      "                       precision    recall  f1-score   support\n",
      "\n",
      "       Augochloropsis       0.67      0.25      0.36         8\n",
      "               Bombus       0.59      1.00      0.74        10\n",
      "              Centris       0.83      0.71      0.77         7\n",
      "              Eulaema       1.00      1.00      1.00         1\n",
      "          Exomalopsis       0.36      0.50      0.42         8\n",
      "             Melipona       0.78      0.58      0.67        12\n",
      "Pseudoalglochloropsis       0.00      0.00      0.00         1\n",
      "             Xylocopa       0.60      0.50      0.55         6\n",
      "\n",
      "             accuracy                           0.60        53\n",
      "            macro avg       0.60      0.57      0.56        53\n",
      "         weighted avg       0.64      0.60      0.59        53\n",
      "\n",
      "\n"
     ]
    }
   ],
   "source": [
    "best_svc = SVC(C=10)\n",
    "rf = RandomForestClassifier()\n",
    "best_lr = LogisticRegression(C=10)\n",
    "\n",
    "modelos = [('svc', best_svc), ('rf', rf), ('lr', best_lr)]\n",
    "\n",
    "best_votingclf = VotingClassifier(estimators=modelos, voting='hard')\n",
    "\n",
    "best_votingclf.fit(X_train, y_train)\n",
    "\n",
    "y_pred = best_votingclf.predict(X_test)\n",
    "\n",
    "print(\"Acurácia...: %.4f\" %(metrics.accuracy_score(y_test, y_pred) * 100))\n",
    "print(\"Precision..: %.4f\" %(metrics.precision_score(y_test, y_pred, average='macro') * 100))\n",
    "print(\"Recall.....: %.4f\" %(metrics.recall_score(y_test, y_pred, average='macro') * 100))\n",
    "print(\"F1-Score...: %.4f\" %(metrics.f1_score(y_test, y_pred, average='macro') * 100))\n",
    "print()\n",
    "print(metrics.classification_report(y_test, y_pred))\n",
    "print()"
   ]
  },
  {
   "cell_type": "code",
   "execution_count": null,
   "metadata": {},
   "outputs": [],
   "source": []
  }
 ],
 "metadata": {
  "kernelspec": {
   "display_name": "Python 3",
   "language": "python",
   "name": "python3"
  },
  "language_info": {
   "codemirror_mode": {
    "name": "ipython",
    "version": 3
   },
   "file_extension": ".py",
   "mimetype": "text/x-python",
   "name": "python",
   "nbconvert_exporter": "python",
   "pygments_lexer": "ipython3",
   "version": "3.7.6"
  }
 },
 "nbformat": 4,
 "nbformat_minor": 4
}
