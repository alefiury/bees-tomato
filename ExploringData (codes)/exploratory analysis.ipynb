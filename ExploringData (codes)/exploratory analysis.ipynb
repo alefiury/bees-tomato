{
 "cells": [
  {
   "cell_type": "code",
   "execution_count": 1,
   "metadata": {},
   "outputs": [],
   "source": [
    "import pandas as pd"
   ]
  },
  {
   "cell_type": "code",
   "execution_count": 2,
   "metadata": {},
   "outputs": [],
   "source": [
    "df = pd.read_excel('Tabela_geral_Actualizada.xlsx')"
   ]
  },
  {
   "cell_type": "code",
   "execution_count": 3,
   "metadata": {},
   "outputs": [
    {
     "data": {
      "text/html": [
       "<div>\n",
       "<style scoped>\n",
       "    .dataframe tbody tr th:only-of-type {\n",
       "        vertical-align: middle;\n",
       "    }\n",
       "\n",
       "    .dataframe tbody tr th {\n",
       "        vertical-align: top;\n",
       "    }\n",
       "\n",
       "    .dataframe thead th {\n",
       "        text-align: right;\n",
       "    }\n",
       "</style>\n",
       "<table border=\"1\" class=\"dataframe\">\n",
       "  <thead>\n",
       "    <tr style=\"text-align: right;\">\n",
       "      <th></th>\n",
       "      <th>Audio</th>\n",
       "      <th>Genero_Abelha</th>\n",
       "      <th>Especie_Abeja</th>\n",
       "      <th>Selection</th>\n",
       "      <th>Channel</th>\n",
       "      <th>Begin Time (s)</th>\n",
       "      <th>End Time (s)</th>\n",
       "      <th>Low Freq (Hz)</th>\n",
       "      <th>High Freq (Hz)</th>\n",
       "      <th>Annotation</th>\n",
       "      <th>Peso</th>\n",
       "      <th>Tamanho_torax</th>\n",
       "    </tr>\n",
       "  </thead>\n",
       "  <tbody>\n",
       "    <tr>\n",
       "      <th>0</th>\n",
       "      <td>10.WAV</td>\n",
       "      <td>Augochloropsis</td>\n",
       "      <td>Augochloropsis_sp1</td>\n",
       "      <td>1</td>\n",
       "      <td>1</td>\n",
       "      <td>4.415170</td>\n",
       "      <td>5.673793</td>\n",
       "      <td>223.762</td>\n",
       "      <td>21481.124</td>\n",
       "      <td>vibra_flor_1</td>\n",
       "      <td>0.0448</td>\n",
       "      <td>1.9</td>\n",
       "    </tr>\n",
       "    <tr>\n",
       "      <th>1</th>\n",
       "      <td>10.WAV</td>\n",
       "      <td>Augochloropsis</td>\n",
       "      <td>Augochloropsis_sp1</td>\n",
       "      <td>2</td>\n",
       "      <td>1</td>\n",
       "      <td>9.794490</td>\n",
       "      <td>12.053115</td>\n",
       "      <td>447.523</td>\n",
       "      <td>22050.000</td>\n",
       "      <td>vibra_flor_1</td>\n",
       "      <td>0.0448</td>\n",
       "      <td>1.9</td>\n",
       "    </tr>\n",
       "    <tr>\n",
       "      <th>2</th>\n",
       "      <td>10.WAV</td>\n",
       "      <td>Augochloropsis</td>\n",
       "      <td>Augochloropsis_sp1</td>\n",
       "      <td>3</td>\n",
       "      <td>1</td>\n",
       "      <td>13.708290</td>\n",
       "      <td>15.242776</td>\n",
       "      <td>0.000</td>\n",
       "      <td>22050.000</td>\n",
       "      <td>voo</td>\n",
       "      <td>0.0448</td>\n",
       "      <td>1.9</td>\n",
       "    </tr>\n",
       "    <tr>\n",
       "      <th>3</th>\n",
       "      <td>23.WAV</td>\n",
       "      <td>Melipona</td>\n",
       "      <td>Melipona_bicolor</td>\n",
       "      <td>1</td>\n",
       "      <td>1</td>\n",
       "      <td>3.225978</td>\n",
       "      <td>6.592216</td>\n",
       "      <td>228.497</td>\n",
       "      <td>22050.000</td>\n",
       "      <td>vibra_flor_1</td>\n",
       "      <td>0.0709</td>\n",
       "      <td>2.7</td>\n",
       "    </tr>\n",
       "    <tr>\n",
       "      <th>4</th>\n",
       "      <td>23.WAV</td>\n",
       "      <td>Melipona</td>\n",
       "      <td>Melipona_bicolor</td>\n",
       "      <td>2</td>\n",
       "      <td>1</td>\n",
       "      <td>6.615592</td>\n",
       "      <td>9.631180</td>\n",
       "      <td>342.746</td>\n",
       "      <td>22050.000</td>\n",
       "      <td>voo</td>\n",
       "      <td>0.0709</td>\n",
       "      <td>2.7</td>\n",
       "    </tr>\n",
       "  </tbody>\n",
       "</table>\n",
       "</div>"
      ],
      "text/plain": [
       "    Audio   Genero_Abelha       Especie_Abeja  Selection  Channel  \\\n",
       "0  10.WAV  Augochloropsis  Augochloropsis_sp1          1        1   \n",
       "1  10.WAV  Augochloropsis  Augochloropsis_sp1          2        1   \n",
       "2  10.WAV  Augochloropsis  Augochloropsis_sp1          3        1   \n",
       "3  23.WAV        Melipona    Melipona_bicolor          1        1   \n",
       "4  23.WAV        Melipona    Melipona_bicolor          2        1   \n",
       "\n",
       "   Begin Time (s)  End Time (s)  Low Freq (Hz)  High Freq (Hz)    Annotation  \\\n",
       "0        4.415170      5.673793        223.762       21481.124  vibra_flor_1   \n",
       "1        9.794490     12.053115        447.523       22050.000  vibra_flor_1   \n",
       "2       13.708290     15.242776          0.000       22050.000          voo    \n",
       "3        3.225978      6.592216        228.497       22050.000  vibra_flor_1   \n",
       "4        6.615592      9.631180        342.746       22050.000           voo   \n",
       "\n",
       "     Peso  Tamanho_torax  \n",
       "0  0.0448            1.9  \n",
       "1  0.0448            1.9  \n",
       "2  0.0448            1.9  \n",
       "3  0.0709            2.7  \n",
       "4  0.0709            2.7  "
      ]
     },
     "execution_count": 3,
     "metadata": {},
     "output_type": "execute_result"
    }
   ],
   "source": [
    "df.head()"
   ]
  },
  {
   "cell_type": "code",
   "execution_count": 4,
   "metadata": {},
   "outputs": [],
   "source": [
    "begin_time = df['Begin Time (s)']\n",
    "end_time = df['End Time (s)']"
   ]
  },
  {
   "cell_type": "code",
   "execution_count": 5,
   "metadata": {},
   "outputs": [],
   "source": [
    "time_fragment = end_time - begin_time"
   ]
  },
  {
   "cell_type": "code",
   "execution_count": 6,
   "metadata": {},
   "outputs": [
    {
     "data": {
      "text/plain": [
       "0      1.258623\n",
       "1      2.258625\n",
       "2      1.534486\n",
       "3      3.366238\n",
       "4      3.015588\n",
       "         ...   \n",
       "319    1.033557\n",
       "320    0.837537\n",
       "321    0.880492\n",
       "322    0.944033\n",
       "323    0.698947\n",
       "Length: 324, dtype: float64"
      ]
     },
     "execution_count": 6,
     "metadata": {},
     "output_type": "execute_result"
    }
   ],
   "source": [
    "time_fragment"
   ]
  },
  {
   "cell_type": "code",
   "execution_count": 7,
   "metadata": {},
   "outputs": [
    {
     "data": {
      "text/plain": [
       "1.5457194242901227"
      ]
     },
     "execution_count": 7,
     "metadata": {},
     "output_type": "execute_result"
    }
   ],
   "source": [
    "time_fragment.mean()"
   ]
  },
  {
   "cell_type": "code",
   "execution_count": 8,
   "metadata": {},
   "outputs": [],
   "source": [
    "freq_min = df['Low Freq (Hz)']\n",
    "freq_max = df['High Freq (Hz)'] / 2"
   ]
  },
  {
   "cell_type": "code",
   "execution_count": 9,
   "metadata": {},
   "outputs": [],
   "source": [
    "media_freq = freq_max - freq_min"
   ]
  },
  {
   "cell_type": "code",
   "execution_count": 10,
   "metadata": {},
   "outputs": [
    {
     "data": {
      "text/plain": [
       "0      10516.800\n",
       "1      10577.477\n",
       "2      11025.000\n",
       "3      10796.503\n",
       "4      10682.254\n",
       "         ...    \n",
       "319    11025.000\n",
       "320    10943.934\n",
       "321    11025.000\n",
       "322    10935.366\n",
       "323    11025.000\n",
       "Length: 324, dtype: float64"
      ]
     },
     "execution_count": 10,
     "metadata": {},
     "output_type": "execute_result"
    }
   ],
   "source": [
    "media_freq"
   ]
  },
  {
   "cell_type": "code",
   "execution_count": null,
   "metadata": {},
   "outputs": [],
   "source": []
  }
 ],
 "metadata": {
  "kernelspec": {
   "display_name": "Python 3",
   "language": "python",
   "name": "python3"
  },
  "language_info": {
   "codemirror_mode": {
    "name": "ipython",
    "version": 3
   },
   "file_extension": ".py",
   "mimetype": "text/x-python",
   "name": "python",
   "nbconvert_exporter": "python",
   "pygments_lexer": "ipython3",
   "version": "3.7.6"
  }
 },
 "nbformat": 4,
 "nbformat_minor": 4
}
