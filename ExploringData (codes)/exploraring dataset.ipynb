{
 "cells": [
  {
   "cell_type": "code",
   "execution_count": 1,
   "metadata": {},
   "outputs": [],
   "source": [
    "import pandas as pd"
   ]
  },
  {
   "cell_type": "code",
   "execution_count": 2,
   "metadata": {},
   "outputs": [],
   "source": [
    "data = pd.read_csv('/home/alison/Documentos/Projeto-Tomate/datasets_especies/dataset_especies_mfcc.csv', sep=',')"
   ]
  },
  {
   "cell_type": "code",
   "execution_count": 3,
   "metadata": {},
   "outputs": [],
   "source": [
    "interflower = data[data['Annotation'] == 'voo']\n",
    "sonication = data[data['Annotation'] != 'voo']"
   ]
  },
  {
   "cell_type": "code",
   "execution_count": 4,
   "metadata": {},
   "outputs": [
    {
     "name": "stdout",
     "output_type": "stream",
     "text": [
      "Complete: (321, 43)\n",
      "Interflower: (103, 43)\n",
      "Sonication: (218, 43)\n"
     ]
    }
   ],
   "source": [
    "print(\"Complete: {}\".format(data.shape))\n",
    "print(\"Interflower: {}\".format(interflower.shape))\n",
    "print(\"Sonication: {}\".format(sonication.shape))"
   ]
  },
  {
   "cell_type": "code",
   "execution_count": 9,
   "metadata": {},
   "outputs": [
    {
     "name": "stdout",
     "output_type": "stream",
     "text": [
      "                                filename\n",
      "label                                   \n",
      "Augochloropsis_brachycephala           1\n",
      "Augochloropsis_sp1                     9\n",
      "Augochloropsis_sp2                     2\n",
      "Bombus_morio                           9\n",
      "Bombus_pauloensis                     11\n",
      "Centris_tarsata                        6\n",
      "Centris_trigonoides                    8\n",
      "Eulaema_nigrita                        2\n",
      "Exomalopsis_analis                    11\n",
      "Exomalopsis_minor                      4\n",
      "Melipona_bicolor                      17\n",
      "Melipona_quadrifasciata                9\n",
      "Pseudoalglochloropsis_graminea         2\n",
      "Xylocopa_nigrocincta                   9\n",
      "Xylocopa_suspecta                      3\n"
     ]
    }
   ],
   "source": [
    "interflower = interflower[['filename', 'label']]\n",
    "inter = interflower.groupby(['label']).count()\n",
    "print(inter)"
   ]
  },
  {
   "cell_type": "code",
   "execution_count": 19,
   "metadata": {},
   "outputs": [
    {
     "data": {
      "text/plain": [
       "<matplotlib.axes._subplots.AxesSubplot at 0x7f18ea355b90>"
      ]
     },
     "execution_count": 19,
     "metadata": {},
     "output_type": "execute_result"
    },
    {
     "data": {
      "image/png": "[encoded data removed]",
      "text/plain": [
       "<Figure size 432x288 with 1 Axes>"
      ]
     },
     "metadata": {
      "needs_background": "light"
     },
     "output_type": "display_data"
    }
   ],
   "source": [
    "interflower['label'].hist()"
   ]
  },
  {
   "cell_type": "code",
   "execution_count": 10,
   "metadata": {},
   "outputs": [
    {
     "name": "stdout",
     "output_type": "stream",
     "text": [
      "                                filename\n",
      "label                                   \n",
      "Augochloropsis_brachycephala           3\n",
      "Augochloropsis_sp1                    11\n",
      "Augochloropsis_sp2                    12\n",
      "Bombus_morio                          19\n",
      "Bombus_pauloensis                     15\n",
      "Centris_tarsata                        2\n",
      "Centris_trigonoides                    3\n",
      "Eulaema_nigrita                        2\n",
      "Exomalopsis_analis                    63\n",
      "Exomalopsis_minor                     19\n",
      "Melipona_bicolor                      30\n",
      "Melipona_quadrifasciata                8\n",
      "Pseudoalglochloropsis_graminea        22\n",
      "Xylocopa_nigrocincta                   7\n",
      "Xylocopa_suspecta                      2\n"
     ]
    }
   ],
   "source": [
    "sonication = sonication[['filename', 'label']]\n",
    "soni = sonication.groupby(['label']).count()\n",
    "print(soni)"
   ]
  },
  {
   "cell_type": "code",
   "execution_count": 16,
   "metadata": {},
   "outputs": [
    {
     "name": "stdout",
     "output_type": "stream",
     "text": [
      "                                filename\n",
      "label                                   \n",
      "Augochloropsis_brachycephala           4\n",
      "Augochloropsis_sp1                    20\n",
      "Augochloropsis_sp2                    14\n",
      "Bombus_morio                          28\n",
      "Bombus_pauloensis                     26\n",
      "Centris_tarsata                        8\n",
      "Centris_trigonoides                   11\n",
      "Eulaema_nigrita                        4\n",
      "Exomalopsis_analis                    74\n",
      "Exomalopsis_minor                     23\n",
      "Melipona_bicolor                      47\n",
      "Melipona_quadrifasciata               17\n",
      "Pseudoalglochloropsis_graminea        24\n",
      "Xylocopa_nigrocincta                  16\n",
      "Xylocopa_suspecta                      5\n"
     ]
    }
   ],
   "source": [
    "da = data[['filename', 'label']]\n",
    "d = da.groupby(['label']).count()\n",
    "print(d)"
   ]
  },
  {
   "cell_type": "code",
   "execution_count": 11,
   "metadata": {},
   "outputs": [],
   "source": [
    "data2 = pd.read_csv('/home/alison/Documentos/Projeto-Tomate/datasets_generos/dataset_genero_pesoTamanho.csv', sep=',')"
   ]
  },
  {
   "cell_type": "code",
   "execution_count": 12,
   "metadata": {},
   "outputs": [],
   "source": [
    "interflower2 = data2[data2['Annotation'] == 'voo']\n",
    "sonication2 = data2[data2['Annotation'] != 'voo']"
   ]
  },
  {
   "cell_type": "code",
   "execution_count": 13,
   "metadata": {},
   "outputs": [
    {
     "name": "stdout",
     "output_type": "stream",
     "text": [
      "Complete: (324, 5)\n",
      "Interflower: (105, 5)\n",
      "Sonication: (219, 5)\n"
     ]
    }
   ],
   "source": [
    "print(\"Complete: {}\".format(data2.shape))\n",
    "print(\"Interflower: {}\".format(interflower2.shape))\n",
    "print(\"Sonication: {}\".format(sonication2.shape))"
   ]
  },
  {
   "cell_type": "code",
   "execution_count": 14,
   "metadata": {},
   "outputs": [
    {
     "name": "stdout",
     "output_type": "stream",
     "text": [
      "                      filename\n",
      "label                         \n",
      "Augchloropsis               12\n",
      "Bombus                      20\n",
      "Centris                     16\n",
      "Eulaema                      2\n",
      "Exomalopis                  15\n",
      "Melipona                    26\n",
      "Pseudoalglochloropsi         2\n",
      "Xylocopa                    12\n"
     ]
    }
   ],
   "source": [
    "interflower2 = interflower2[['filename', 'label']]\n",
    "inter2 = interflower2.groupby(['label']).count()\n",
    "print(inter2)"
   ]
  },
  {
   "cell_type": "code",
   "execution_count": 15,
   "metadata": {},
   "outputs": [
    {
     "name": "stdout",
     "output_type": "stream",
     "text": [
      "                      filename\n",
      "label                         \n",
      "Augchloropsis               26\n",
      "Bombus                      34\n",
      "Centris                      6\n",
      "Eulaema                      2\n",
      "Exomalopis                  82\n",
      "Melipona                    38\n",
      "Pseudoalglochloropsi        22\n",
      "Xylocopa                     9\n"
     ]
    }
   ],
   "source": [
    "sonication2 = sonication2[['filename', 'label']]\n",
    "soni2 = sonication2.groupby(['label']).count()\n",
    "print(soni2)"
   ]
  },
  {
   "cell_type": "code",
   "execution_count": 17,
   "metadata": {},
   "outputs": [
    {
     "name": "stdout",
     "output_type": "stream",
     "text": [
      "                      filename\n",
      "label                         \n",
      "Augchloropsis               38\n",
      "Bombus                      54\n",
      "Centris                     22\n",
      "Eulaema                      4\n",
      "Exomalopis                  97\n",
      "Melipona                    64\n",
      "Pseudoalglochloropsi        24\n",
      "Xylocopa                    21\n"
     ]
    }
   ],
   "source": [
    "da2 = data2[['filename', 'label']]\n",
    "d2 = da2.groupby(['label']).count()\n",
    "print(d2)"
   ]
  },
  {
   "cell_type": "code",
   "execution_count": null,
   "metadata": {},
   "outputs": [],
   "source": []
  }
 ],
 "metadata": {
  "kernelspec": {
   "display_name": "Python 3",
   "language": "python",
   "name": "python3"
  },
  "language_info": {
   "codemirror_mode": {
    "name": "ipython",
    "version": 3
   },
   "file_extension": ".py",
   "mimetype": "text/x-python",
   "name": "python",
   "nbconvert_exporter": "python",
   "pygments_lexer": "ipython3",
   "version": "3.7.6"
  }
 },
 "nbformat": 4,
 "nbformat_minor": 4
}
