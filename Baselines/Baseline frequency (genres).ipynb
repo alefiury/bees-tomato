{
 "cells": [
  {
   "cell_type": "code",
   "execution_count": 1,
   "metadata": {},
   "outputs": [],
   "source": [
    "import pickle\n",
    "import pandas as pd\n",
    "import numpy as np\n",
    "import seaborn as sns\n",
    "import matplotlib.pyplot as plt\n",
    "from sklearn import metrics\n",
    "from sklearn.metrics import classification_report\n",
    "from sklearn.model_selection import GridSearchCV\n",
    "from sklearn.preprocessing import StandardScaler\n",
    "from sklearn.svm import LinearSVC, SVC\n",
    "from sklearn.ensemble import RandomForestClassifier\n",
    "from sklearn.linear_model import LogisticRegression\n",
    "from sklearn.tree import DecisionTreeClassifier\n",
    "from sklearn.ensemble import VotingClassifier\n",
    "from sklearn.model_selection import train_test_split\n",
    "from sklearn.preprocessing import LabelEncoder\n",
    "from sklearn.model_selection import StratifiedKFold\n",
    "import warnings\n",
    "warnings.filterwarnings('ignore')"
   ]
  },
  {
   "cell_type": "code",
   "execution_count": 8,
   "metadata": {},
   "outputs": [],
   "source": [
    "dadosFreq = pd.read_excel(\"Dados originais_artigo Priscila .xlsx\")"
   ]
  },
  {
   "cell_type": "code",
   "execution_count": 9,
   "metadata": {},
   "outputs": [
    {
     "data": {
      "text/html": [
       "<div>\n",
       "<style scoped>\n",
       "    .dataframe tbody tr th:only-of-type {\n",
       "        vertical-align: middle;\n",
       "    }\n",
       "\n",
       "    .dataframe tbody tr th {\n",
       "        vertical-align: top;\n",
       "    }\n",
       "\n",
       "    .dataframe thead th {\n",
       "        text-align: right;\n",
       "    }\n",
       "</style>\n",
       "<table border=\"1\" class=\"dataframe\">\n",
       "  <thead>\n",
       "    <tr style=\"text-align: right;\">\n",
       "      <th></th>\n",
       "      <th>Espécie - Abelha</th>\n",
       "      <th>Freq. 1 (Hz)</th>\n",
       "      <th>Freq. 2 (Hz)</th>\n",
       "      <th>Freq. 3 (Hz)</th>\n",
       "      <th>Média Freq.</th>\n",
       "      <th>Peso abelha (g)</th>\n",
       "      <th>Tamanho tórax</th>\n",
       "      <th>Duração (s)</th>\n",
       "      <th>Média Freq..1</th>\n",
       "      <th>Peso abelha (g).1</th>\n",
       "      <th>Tamanho tórax.1</th>\n",
       "      <th>Duração (s).1</th>\n",
       "    </tr>\n",
       "  </thead>\n",
       "  <tbody>\n",
       "    <tr>\n",
       "      <th>0</th>\n",
       "      <td>Augochloropsis_sp1</td>\n",
       "      <td>219.4</td>\n",
       "      <td>197.3</td>\n",
       "      <td>203.7</td>\n",
       "      <td>206.800000</td>\n",
       "      <td>0.0608</td>\n",
       "      <td>2.1</td>\n",
       "      <td>4.1780</td>\n",
       "      <td>15.62052</td>\n",
       "      <td>0.007294</td>\n",
       "      <td>0.122474</td>\n",
       "      <td>1.570395</td>\n",
       "    </tr>\n",
       "    <tr>\n",
       "      <th>1</th>\n",
       "      <td>Augochloropsis_sp1</td>\n",
       "      <td>206.4</td>\n",
       "      <td>205.1</td>\n",
       "      <td>216.0</td>\n",
       "      <td>209.166667</td>\n",
       "      <td>0.0608</td>\n",
       "      <td>2.1</td>\n",
       "      <td>1.6670</td>\n",
       "      <td>NaN</td>\n",
       "      <td>NaN</td>\n",
       "      <td>NaN</td>\n",
       "      <td>NaN</td>\n",
       "    </tr>\n",
       "    <tr>\n",
       "      <th>2</th>\n",
       "      <td>Augochloropsis_sp1</td>\n",
       "      <td>187.3</td>\n",
       "      <td>186.6</td>\n",
       "      <td>204.0</td>\n",
       "      <td>192.633333</td>\n",
       "      <td>0.0448</td>\n",
       "      <td>1.9</td>\n",
       "      <td>0.5803</td>\n",
       "      <td>NaN</td>\n",
       "      <td>NaN</td>\n",
       "      <td>NaN</td>\n",
       "      <td>NaN</td>\n",
       "    </tr>\n",
       "    <tr>\n",
       "      <th>3</th>\n",
       "      <td>Augochloropsis_sp1</td>\n",
       "      <td>234.7</td>\n",
       "      <td>229.3</td>\n",
       "      <td>214.8</td>\n",
       "      <td>226.266667</td>\n",
       "      <td>0.0534</td>\n",
       "      <td>1.9</td>\n",
       "      <td>0.7520</td>\n",
       "      <td>NaN</td>\n",
       "      <td>NaN</td>\n",
       "      <td>NaN</td>\n",
       "      <td>NaN</td>\n",
       "    </tr>\n",
       "    <tr>\n",
       "      <th>4</th>\n",
       "      <td>Augochloropsis_sp1</td>\n",
       "      <td>214.6</td>\n",
       "      <td>194.8</td>\n",
       "      <td>205.8</td>\n",
       "      <td>205.066667</td>\n",
       "      <td>0.0448</td>\n",
       "      <td>1.9</td>\n",
       "      <td>NaN</td>\n",
       "      <td>NaN</td>\n",
       "      <td>NaN</td>\n",
       "      <td>NaN</td>\n",
       "      <td>NaN</td>\n",
       "    </tr>\n",
       "  </tbody>\n",
       "</table>\n",
       "</div>"
      ],
      "text/plain": [
       "     Espécie - Abelha   Freq. 1 (Hz)   Freq. 2 (Hz)  Freq. 3 (Hz)  \\\n",
       "0  Augochloropsis_sp1          219.4          197.3         203.7   \n",
       "1  Augochloropsis_sp1          206.4          205.1         216.0   \n",
       "2  Augochloropsis_sp1          187.3          186.6         204.0   \n",
       "3  Augochloropsis_sp1          234.7          229.3         214.8   \n",
       "4  Augochloropsis_sp1          214.6          194.8         205.8   \n",
       "\n",
       "   Média Freq.  Peso abelha (g)  Tamanho tórax  Duração (s)  Média Freq..1  \\\n",
       "0   206.800000           0.0608            2.1       4.1780       15.62052   \n",
       "1   209.166667           0.0608            2.1       1.6670            NaN   \n",
       "2   192.633333           0.0448            1.9       0.5803            NaN   \n",
       "3   226.266667           0.0534            1.9       0.7520            NaN   \n",
       "4   205.066667           0.0448            1.9          NaN            NaN   \n",
       "\n",
       "   Peso abelha (g).1  Tamanho tórax.1  Duração (s).1  \n",
       "0           0.007294         0.122474       1.570395  \n",
       "1                NaN              NaN            NaN  \n",
       "2                NaN              NaN            NaN  \n",
       "3                NaN              NaN            NaN  \n",
       "4                NaN              NaN            NaN  "
      ]
     },
     "execution_count": 9,
     "metadata": {},
     "output_type": "execute_result"
    }
   ],
   "source": [
    "dadosFreq.head()"
   ]
  },
  {
   "cell_type": "code",
   "execution_count": 10,
   "metadata": {},
   "outputs": [],
   "source": [
    "dados = dadosFreq.drop([\"Peso abelha (g)\", \"Tamanho tórax\", \"Duração (s)\", \"Média Freq..1\",\\\n",
    "                            \"Peso abelha (g).1\", \"Tamanho tórax.1\", \"Duração (s).1\"], axis=1)"
   ]
  },
  {
   "cell_type": "code",
   "execution_count": 11,
   "metadata": {},
   "outputs": [
    {
     "data": {
      "text/html": [
       "<div>\n",
       "<style scoped>\n",
       "    .dataframe tbody tr th:only-of-type {\n",
       "        vertical-align: middle;\n",
       "    }\n",
       "\n",
       "    .dataframe tbody tr th {\n",
       "        vertical-align: top;\n",
       "    }\n",
       "\n",
       "    .dataframe thead th {\n",
       "        text-align: right;\n",
       "    }\n",
       "</style>\n",
       "<table border=\"1\" class=\"dataframe\">\n",
       "  <thead>\n",
       "    <tr style=\"text-align: right;\">\n",
       "      <th></th>\n",
       "      <th>Espécie - Abelha</th>\n",
       "      <th>Freq. 1 (Hz)</th>\n",
       "      <th>Freq. 2 (Hz)</th>\n",
       "      <th>Freq. 3 (Hz)</th>\n",
       "      <th>Média Freq.</th>\n",
       "    </tr>\n",
       "  </thead>\n",
       "  <tbody>\n",
       "    <tr>\n",
       "      <th>0</th>\n",
       "      <td>Augochloropsis_sp1</td>\n",
       "      <td>219.4</td>\n",
       "      <td>197.3</td>\n",
       "      <td>203.7</td>\n",
       "      <td>206.800000</td>\n",
       "    </tr>\n",
       "    <tr>\n",
       "      <th>1</th>\n",
       "      <td>Augochloropsis_sp1</td>\n",
       "      <td>206.4</td>\n",
       "      <td>205.1</td>\n",
       "      <td>216.0</td>\n",
       "      <td>209.166667</td>\n",
       "    </tr>\n",
       "    <tr>\n",
       "      <th>2</th>\n",
       "      <td>Augochloropsis_sp1</td>\n",
       "      <td>187.3</td>\n",
       "      <td>186.6</td>\n",
       "      <td>204.0</td>\n",
       "      <td>192.633333</td>\n",
       "    </tr>\n",
       "    <tr>\n",
       "      <th>3</th>\n",
       "      <td>Augochloropsis_sp1</td>\n",
       "      <td>234.7</td>\n",
       "      <td>229.3</td>\n",
       "      <td>214.8</td>\n",
       "      <td>226.266667</td>\n",
       "    </tr>\n",
       "    <tr>\n",
       "      <th>4</th>\n",
       "      <td>Augochloropsis_sp1</td>\n",
       "      <td>214.6</td>\n",
       "      <td>194.8</td>\n",
       "      <td>205.8</td>\n",
       "      <td>205.066667</td>\n",
       "    </tr>\n",
       "  </tbody>\n",
       "</table>\n",
       "</div>"
      ],
      "text/plain": [
       "     Espécie - Abelha   Freq. 1 (Hz)   Freq. 2 (Hz)  Freq. 3 (Hz)  Média Freq.\n",
       "0  Augochloropsis_sp1          219.4          197.3         203.7   206.800000\n",
       "1  Augochloropsis_sp1          206.4          205.1         216.0   209.166667\n",
       "2  Augochloropsis_sp1          187.3          186.6         204.0   192.633333\n",
       "3  Augochloropsis_sp1          234.7          229.3         214.8   226.266667\n",
       "4  Augochloropsis_sp1          214.6          194.8         205.8   205.066667"
      ]
     },
     "execution_count": 11,
     "metadata": {},
     "output_type": "execute_result"
    }
   ],
   "source": [
    "dados.head()"
   ]
  },
  {
   "cell_type": "code",
   "execution_count": 12,
   "metadata": {},
   "outputs": [
    {
     "data": {
      "text/html": [
       "<div>\n",
       "<style scoped>\n",
       "    .dataframe tbody tr th:only-of-type {\n",
       "        vertical-align: middle;\n",
       "    }\n",
       "\n",
       "    .dataframe tbody tr th {\n",
       "        vertical-align: top;\n",
       "    }\n",
       "\n",
       "    .dataframe thead th {\n",
       "        text-align: right;\n",
       "    }\n",
       "</style>\n",
       "<table border=\"1\" class=\"dataframe\">\n",
       "  <thead>\n",
       "    <tr style=\"text-align: right;\">\n",
       "      <th></th>\n",
       "      <th>Espécie - Abelha</th>\n",
       "      <th>Freq. 1 (Hz)</th>\n",
       "      <th>Freq. 2 (Hz)</th>\n",
       "      <th>Freq. 3 (Hz)</th>\n",
       "      <th>Média Freq.</th>\n",
       "    </tr>\n",
       "  </thead>\n",
       "  <tbody>\n",
       "    <tr>\n",
       "      <th>0</th>\n",
       "      <td>Augochloropsis</td>\n",
       "      <td>219.4</td>\n",
       "      <td>197.3</td>\n",
       "      <td>203.7</td>\n",
       "      <td>206.800000</td>\n",
       "    </tr>\n",
       "    <tr>\n",
       "      <th>1</th>\n",
       "      <td>Augochloropsis</td>\n",
       "      <td>206.4</td>\n",
       "      <td>205.1</td>\n",
       "      <td>216.0</td>\n",
       "      <td>209.166667</td>\n",
       "    </tr>\n",
       "    <tr>\n",
       "      <th>2</th>\n",
       "      <td>Augochloropsis</td>\n",
       "      <td>187.3</td>\n",
       "      <td>186.6</td>\n",
       "      <td>204.0</td>\n",
       "      <td>192.633333</td>\n",
       "    </tr>\n",
       "    <tr>\n",
       "      <th>3</th>\n",
       "      <td>Augochloropsis</td>\n",
       "      <td>234.7</td>\n",
       "      <td>229.3</td>\n",
       "      <td>214.8</td>\n",
       "      <td>226.266667</td>\n",
       "    </tr>\n",
       "    <tr>\n",
       "      <th>4</th>\n",
       "      <td>Augochloropsis</td>\n",
       "      <td>214.6</td>\n",
       "      <td>194.8</td>\n",
       "      <td>205.8</td>\n",
       "      <td>205.066667</td>\n",
       "    </tr>\n",
       "  </tbody>\n",
       "</table>\n",
       "</div>"
      ],
      "text/plain": [
       "  Espécie - Abelha   Freq. 1 (Hz)   Freq. 2 (Hz)  Freq. 3 (Hz)  Média Freq.\n",
       "0   Augochloropsis          219.4          197.3         203.7   206.800000\n",
       "1   Augochloropsis          206.4          205.1         216.0   209.166667\n",
       "2   Augochloropsis          187.3          186.6         204.0   192.633333\n",
       "3   Augochloropsis          234.7          229.3         214.8   226.266667\n",
       "4   Augochloropsis          214.6          194.8         205.8   205.066667"
      ]
     },
     "execution_count": 12,
     "metadata": {},
     "output_type": "execute_result"
    }
   ],
   "source": [
    "dados['Espécie - Abelha'] = dados['Espécie - Abelha'].apply(lambda x: x.split('_')[0])\n",
    "dados.head()"
   ]
  },
  {
   "cell_type": "code",
   "execution_count": 13,
   "metadata": {},
   "outputs": [],
   "source": [
    "X = list(dados['Média Freq.'])\n",
    "y = list(dados['Espécie - Abelha'])"
   ]
  },
  {
   "cell_type": "code",
   "execution_count": 14,
   "metadata": {},
   "outputs": [
    {
     "name": "stdout",
     "output_type": "stream",
     "text": [
      "[[206.8], [209.166666666667], [192.633333333333], [226.266666666667], [205.066666666667], [180.3], [190.1], [296.466666666667], [207.9], [257.1], [232.566666666667], [214.133333333333], [227.433333333333], [264.1], [208.533333333333], [235.3], [208.3], [330.80808080808], [312.033333333333], [327.933333333333], [196.733333333333], [188.233333333333], [175.933333333333], [118.733333333333], [175.866666666667], [158.6], [175.9], [169.866666666667], [158.3], [303.666666666667], [351.833333333333], [341.6], [318.7], [371.7], [366.433333333333], [298.433333333333], [345.2], [324.6], [330.6], [314.833333333333], [322.266666666667], [250.666666666667], [243.833333333333], [279.3], [221.033333333333], [204.266666666667], [220.033333333333], [207.2], [223.766666666667], [250.866666666667], [214.166666666667], [190.133333333333], [219.2], [205.433333333333], [182.433333333333], [153.333333333333], [153.8], [193.366666666667], [148.3], [136.333333333333], [147.166666666667]]\n"
     ]
    }
   ],
   "source": [
    "for i in range(len(X)):\n",
    "    X[i] = [X[i]]\n",
    "print(X)"
   ]
  },
  {
   "cell_type": "code",
   "execution_count": 15,
   "metadata": {},
   "outputs": [],
   "source": [
    "def salva_modelo(modelo, nome_arq):\n",
    "    filename = '/home/alison/Documentos/Projeto-Tomate/modelos_gen/' + nome_arq\n",
    "    pickle.dump(modelo, open(filename, 'wb'))\n"
   ]
  },
  {
   "cell_type": "code",
   "execution_count": 16,
   "metadata": {},
   "outputs": [],
   "source": [
    "def treino_teste(matriz, classes, clf):\n",
    "    X_train, X_test, y_train, y_test = train_test_split(matriz, classes, test_size=0.5, random_state=1)\n",
    "    #kfold = StratifiedKFold(n_splits=5, shuffle=True, random_state=1)\n",
    "\n",
    "    clf.fit(X_train, y_train)\n",
    "\n",
    "    y_true, y_pred = y_test, clf.predict(X_test)\n",
    "    \n",
    "    print(\"Acurácia...: %.4f\" %(metrics.accuracy_score(y_true, y_pred) * 100))\n",
    "    print(\"Precision..: %.4f\" %(metrics.precision_score(y_true, y_pred, average='macro') * 100))\n",
    "    print(\"Recall.....: %.4f\" %(metrics.recall_score(y_true, y_pred, average='macro') * 100))\n",
    "    print(\"F1-Score...: %.4f\" %(metrics.f1_score(y_true, y_pred, average='macro') * 100))\n",
    "    print()\n",
    "    print(metrics.classification_report(y_true, y_pred))\n",
    "\n",
    "    return clf"
   ]
  },
  {
   "cell_type": "code",
   "execution_count": 17,
   "metadata": {},
   "outputs": [],
   "source": [
    "def algoritmos(op, matriz, classes):\n",
    "\n",
    "    if op == \"svm\":\n",
    "        modelo = SVC(C=10, decision_function_shape='ovo', gamma=0.01, kernel='rbf')\n",
    "        \n",
    "        clf = treino_teste(matriz, classes, modelo)\n",
    "\n",
    "        modelname = \"baseline_svm_.sav\"\n",
    "        salva_modelo(clf, modelname)\n",
    "\n",
    "    elif op == \"lr\":\n",
    "        modelo = LogisticRegression(C=10)\n",
    "        clf = treino_teste(matriz, classes, modelo)\n",
    "\n",
    "        modelname = \"baseline_lr_.sav\"\n",
    "        salva_modelo(clf, modelname)\n",
    "\n",
    "    elif op == \"dtree\":\n",
    "        modelo = DecisionTreeClassifier(criterion='entropy', max_depth=10, min_samples_split=2)\n",
    "        clf = treino_teste(matriz, classes, modelo)\n",
    "\n",
    "        modelname = \"baseline_dtree_.sav\"\n",
    "        salva_modelo(clf, modelname)\n",
    "\n",
    "    elif op == \"rf\":\n",
    "        modelo = RandomForestClassifier(max_features='sqrt', n_estimators=100)\n",
    "        clf = treino_teste(matriz, classes, modelo)\n",
    "\n",
    "        modelname = \"baseline_rf_.sav\"\n",
    "        salva_modelo(modelo, modelname)\n",
    "\n",
    "    elif op == \"ens\":\n",
    "        svc = SVC(C=10)\n",
    "        rf = RandomForestClassifier()\n",
    "        lr = LogisticRegression(C=1)\n",
    "\n",
    "        modelos = [('svc', svc), ('rf', rf), ('lr', lr)]\n",
    "\n",
    "        votingclf = VotingClassifier(estimators=modelos, voting='hard')\n",
    "        clf = treino_teste(matriz, classes, votingclf)\n",
    "\n",
    "        modelname = \"baseline_ensemble_.sav\"\n",
    "        salva_modelo(clf, modelname)"
   ]
  },
  {
   "cell_type": "code",
   "execution_count": 18,
   "metadata": {},
   "outputs": [
    {
     "name": "stdout",
     "output_type": "stream",
     "text": [
      "Acurácia...: 48.3871\n",
      "Precision..: 28.5714\n",
      "Recall.....: 29.2411\n",
      "F1-Score...: 27.6488\n",
      "\n",
      "                       precision    recall  f1-score   support\n",
      "\n",
      "       Augochloropsis       0.17      0.50      0.25         2\n",
      "               Bombus       0.57      0.50      0.53         8\n",
      "              Centris       0.00      0.00      0.00         2\n",
      "              Eulaema       0.00      0.00      0.00         0\n",
      "          Exomalopsis       0.83      0.62      0.71         8\n",
      "             Melipona       0.71      0.71      0.71         7\n",
      "Pseudoalglochloropsis       0.00      0.00      0.00         2\n",
      "             Xylocopa       0.00      0.00      0.00         2\n",
      "\n",
      "             accuracy                           0.48        31\n",
      "            macro avg       0.29      0.29      0.28        31\n",
      "         weighted avg       0.53      0.48      0.50        31\n",
      "\n"
     ]
    }
   ],
   "source": [
    "algoritmo = \"svm\"\n",
    "algoritmos(algoritmo, X, y)"
   ]
  },
  {
   "cell_type": "code",
   "execution_count": 18,
   "metadata": {},
   "outputs": [
    {
     "name": "stdout",
     "output_type": "stream",
     "text": [
      "Acurácia...: 16.1290\n",
      "Precision..: 12.8571\n",
      "Recall.....: 9.4388\n",
      "F1-Score...: 10.8844\n",
      "\n",
      "                       precision    recall  f1-score   support\n",
      "\n",
      "       Augochloropsis       0.00      0.00      0.00         2\n",
      "               Bombus       0.00      0.00      0.00         8\n",
      "              Centris       0.00      0.00      0.00         2\n",
      "          Exomalopsis       0.50      0.38      0.43         8\n",
      "             Melipona       0.40      0.29      0.33         7\n",
      "Pseudoalglochloropsis       0.00      0.00      0.00         2\n",
      "             Xylocopa       0.00      0.00      0.00         2\n",
      "\n",
      "             accuracy                           0.16        31\n",
      "            macro avg       0.13      0.09      0.11        31\n",
      "         weighted avg       0.22      0.16      0.19        31\n",
      "\n"
     ]
    }
   ],
   "source": [
    "algoritmo = \"lr\"\n",
    "algoritmos(algoritmo, X, y)"
   ]
  },
  {
   "cell_type": "code",
   "execution_count": 19,
   "metadata": {},
   "outputs": [
    {
     "name": "stdout",
     "output_type": "stream",
     "text": [
      "Acurácia...: 16.1290\n",
      "Precision..: 7.4603\n",
      "Recall.....: 9.4388\n",
      "F1-Score...: 8.3333\n",
      "\n",
      "                       precision    recall  f1-score   support\n",
      "\n",
      "       Augochloropsis       0.00      0.00      0.00         2\n",
      "               Bombus       0.00      0.00      0.00         8\n",
      "              Centris       0.00      0.00      0.00         2\n",
      "          Exomalopsis       0.30      0.38      0.33         8\n",
      "             Melipona       0.22      0.29      0.25         7\n",
      "Pseudoalglochloropsis       0.00      0.00      0.00         2\n",
      "             Xylocopa       0.00      0.00      0.00         2\n",
      "\n",
      "             accuracy                           0.16        31\n",
      "            macro avg       0.07      0.09      0.08        31\n",
      "         weighted avg       0.13      0.16      0.14        31\n",
      "\n"
     ]
    }
   ],
   "source": [
    "algoritmo = \"rf\"\n",
    "algoritmos(algoritmo, X, y)"
   ]
  },
  {
   "cell_type": "code",
   "execution_count": 20,
   "metadata": {},
   "outputs": [
    {
     "name": "stdout",
     "output_type": "stream",
     "text": [
      "Acurácia...: 12.9032\n",
      "Precision..: 6.3492\n",
      "Recall.....: 7.6531\n",
      "F1-Score...: 6.9328\n",
      "\n",
      "                       precision    recall  f1-score   support\n",
      "\n",
      "       Augochloropsis       0.00      0.00      0.00         2\n",
      "               Bombus       0.00      0.00      0.00         8\n",
      "              Centris       0.00      0.00      0.00         2\n",
      "          Exomalopsis       0.22      0.25      0.24         8\n",
      "             Melipona       0.22      0.29      0.25         7\n",
      "Pseudoalglochloropsis       0.00      0.00      0.00         2\n",
      "             Xylocopa       0.00      0.00      0.00         2\n",
      "\n",
      "             accuracy                           0.13        31\n",
      "            macro avg       0.06      0.08      0.07        31\n",
      "         weighted avg       0.11      0.13      0.12        31\n",
      "\n"
     ]
    }
   ],
   "source": [
    "algoritmo = \"dtree\"\n",
    "algoritmos(algoritmo, X, y)"
   ]
  },
  {
   "cell_type": "code",
   "execution_count": 21,
   "metadata": {},
   "outputs": [
    {
     "name": "stdout",
     "output_type": "stream",
     "text": [
      "Acurácia...: 19.3548\n",
      "Precision..: 9.1575\n",
      "Recall.....: 11.2245\n",
      "F1-Score...: 9.8378\n",
      "\n",
      "                       precision    recall  f1-score   support\n",
      "\n",
      "       Augochloropsis       0.00      0.00      0.00         2\n",
      "               Bombus       0.00      0.00      0.00         8\n",
      "              Centris       0.00      0.00      0.00         2\n",
      "          Exomalopsis       0.31      0.50      0.38         8\n",
      "             Melipona       0.33      0.29      0.31         7\n",
      "Pseudoalglochloropsis       0.00      0.00      0.00         2\n",
      "             Xylocopa       0.00      0.00      0.00         2\n",
      "\n",
      "             accuracy                           0.19        31\n",
      "            macro avg       0.09      0.11      0.10        31\n",
      "         weighted avg       0.15      0.19      0.17        31\n",
      "\n"
     ]
    }
   ],
   "source": [
    "algoritmo = \"ens\"\n",
    "algoritmos(algoritmo, X, y)"
   ]
  },
  {
   "cell_type": "code",
   "execution_count": null,
   "metadata": {},
   "outputs": [],
   "source": []
  }
 ],
 "metadata": {
  "kernelspec": {
   "display_name": "Python 3",
   "language": "python",
   "name": "python3"
  },
  "language_info": {
   "codemirror_mode": {
    "name": "ipython",
    "version": 3
   },
   "file_extension": ".py",
   "mimetype": "text/x-python",
   "name": "python",
   "nbconvert_exporter": "python",
   "pygments_lexer": "ipython3",
   "version": "3.7.6"
  }
 },
 "nbformat": 4,
 "nbformat_minor": 4
}
