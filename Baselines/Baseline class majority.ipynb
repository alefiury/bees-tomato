{
 "cells": [
  {
   "cell_type": "code",
   "execution_count": 1,
   "metadata": {},
   "outputs": [],
   "source": [
    "from sklearn.metrics import classification_report"
   ]
  },
  {
   "cell_type": "code",
   "execution_count": 2,
   "metadata": {},
   "outputs": [],
   "source": [
    "import pandas as pd"
   ]
  },
  {
   "cell_type": "code",
   "execution_count": 3,
   "metadata": {},
   "outputs": [],
   "source": [
    "df = pd.read_csv(\"dataset_especies_mfcc.csv\")"
   ]
  },
  {
   "cell_type": "code",
   "execution_count": 4,
   "metadata": {},
   "outputs": [
    {
     "name": "stdout",
     "output_type": "stream",
     "text": [
      "    filename       mfcc1      mfcc2      mfcc3      mfcc4      mfcc5  \\\n",
      "0     10.WAV -187.834915  49.854252  -6.525051   4.707772   1.334116   \n",
      "1     10.WAV -211.676758  48.164745  -1.568784   3.710127  -3.730522   \n",
      "2     10.WAV -232.696899  81.410210  37.018658  20.403471  16.442812   \n",
      "3     91.WAV -185.587082  73.079796   8.960753  14.774915   6.392628   \n",
      "4  72_90.WAV -255.555954  62.533112   9.300890   6.245489  11.985186   \n",
      "\n",
      "       mfcc6      mfcc7     mfcc8     mfcc9  ...    mfcc33    mfcc34  \\\n",
      "0   1.693677   6.264961  2.519773  1.206058  ...  0.444205  2.252861   \n",
      "1  -3.279997  -0.343598 -0.073257  0.746383  ... -1.024178 -0.240914   \n",
      "2  14.575477  11.206918  6.474152  6.047267  ...  1.250340  0.958684   \n",
      "3  13.652942  10.269503  3.991142  4.798811  ... -1.759427 -1.076507   \n",
      "4  10.531092  11.661766  4.740428  4.567764  ...  2.895166  2.551942   \n",
      "\n",
      "     mfcc35    mfcc36    mfcc37    mfcc38    mfcc39    mfcc40    Annotation  \\\n",
      "0  0.985763  1.885565 -0.026572 -0.801063 -0.571089 -0.822223  vibra_flor_1   \n",
      "1 -0.574752 -0.193956 -0.603252  0.036737 -0.689467  0.040395  vibra_flor_1   \n",
      "2 -0.131907 -0.131134 -0.765925 -0.879593 -0.483463 -0.753808           voo   \n",
      "3 -2.575743 -1.058758 -0.872088  0.383461  0.684918  0.585753  vibra_flor_1   \n",
      "4  0.574672  0.654496 -1.118530 -0.480824 -0.293434  0.013918           voo   \n",
      "\n",
      "              species  \n",
      "0  Augochloropsis_sp1  \n",
      "1  Augochloropsis_sp1  \n",
      "2  Augochloropsis_sp1  \n",
      "3  Augochloropsis_sp1  \n",
      "4  Augochloropsis_sp1  \n",
      "\n",
      "[5 rows x 43 columns]\n"
     ]
    }
   ],
   "source": [
    "print(df.head())"
   ]
  },
  {
   "cell_type": "code",
   "execution_count": 6,
   "metadata": {},
   "outputs": [],
   "source": [
    "majority_class_predict = ['Exomalopsis_analis']*len(df.index)"
   ]
  },
  {
   "cell_type": "code",
   "execution_count": 7,
   "metadata": {},
   "outputs": [],
   "source": [
    "real_class = df.species"
   ]
  },
  {
   "cell_type": "code",
   "execution_count": 9,
   "metadata": {},
   "outputs": [],
   "source": [
    "target_names = df.species.unique()"
   ]
  },
  {
   "cell_type": "code",
   "execution_count": 10,
   "metadata": {},
   "outputs": [
    {
     "name": "stdout",
     "output_type": "stream",
     "text": [
      "                                precision    recall  f1-score   support\n",
      "\n",
      "            Augochloropsis_sp1       0.00      0.00      0.00         4\n",
      "            Augochloropsis_sp2       0.00      0.00      0.00        20\n",
      "  Augochloropsis_brachycephala       0.00      0.00      0.00        14\n",
      "                  Bombus_morio       0.00      0.00      0.00        28\n",
      "             Bombus_pauloensis       0.00      0.00      0.00        26\n",
      "               Centris_tarsata       0.00      0.00      0.00         8\n",
      "           Centris_trigonoides       0.00      0.00      0.00        11\n",
      "               Eulaema_nigrita       0.00      0.00      0.00         4\n",
      "            Exomalopsis_analis       0.23      1.00      0.37        74\n",
      "             Exomalopsis_minor       0.00      0.00      0.00        23\n",
      "              Melipona_bicolor       0.00      0.00      0.00        47\n",
      "       Melipona_quadrifasciata       0.00      0.00      0.00        17\n",
      "Pseudoalglochloropsis_graminea       0.00      0.00      0.00        24\n",
      "          Xylocopa_nigrocincta       0.00      0.00      0.00        16\n",
      "             Xylocopa_suspecta       0.00      0.00      0.00         5\n",
      "\n",
      "                      accuracy                           0.23       321\n",
      "                     macro avg       0.02      0.07      0.02       321\n",
      "                  weighted avg       0.05      0.23      0.09       321\n",
      "\n"
     ]
    },
    {
     "name": "stderr",
     "output_type": "stream",
     "text": [
      "/Users/nadia/opt/anaconda3/lib/python3.7/site-packages/sklearn/metrics/classification.py:1437: UndefinedMetricWarning: Precision and F-score are ill-defined and being set to 0.0 in labels with no predicted samples.\n",
      "  'precision', 'predicted', average, warn_for)\n"
     ]
    }
   ],
   "source": [
    "print(classification_report(real_class, majority_class_predict, target_names=target_names))"
   ]
  },
  {
   "cell_type": "code",
   "execution_count": 11,
   "metadata": {},
   "outputs": [],
   "source": [
    "df = pd.read_csv(\"dataset_genero_mfcc.csv\")"
   ]
  },
  {
   "cell_type": "code",
   "execution_count": 12,
   "metadata": {},
   "outputs": [],
   "source": [
    "target_names = df.genre.unique()"
   ]
  },
  {
   "cell_type": "code",
   "execution_count": 16,
   "metadata": {},
   "outputs": [
    {
     "data": {
      "text/plain": [
       "array(['Augchloropsis', 'Bombus', 'Centris', 'Eulaema', 'Exomalopis',\n",
       "       'Melipona', 'Pseudoalglochloropsi', 'Xylocopa'], dtype=object)"
      ]
     },
     "execution_count": 16,
     "metadata": {},
     "output_type": "execute_result"
    }
   ],
   "source": [
    "target_names"
   ]
  },
  {
   "cell_type": "code",
   "execution_count": 18,
   "metadata": {},
   "outputs": [],
   "source": [
    "majority_class_predict = ['Exomalopis']*len(df.index)"
   ]
  },
  {
   "cell_type": "code",
   "execution_count": 19,
   "metadata": {},
   "outputs": [],
   "source": [
    "real_class = df.genre"
   ]
  },
  {
   "cell_type": "code",
   "execution_count": 20,
   "metadata": {},
   "outputs": [
    {
     "name": "stdout",
     "output_type": "stream",
     "text": [
      "                      precision    recall  f1-score   support\n",
      "\n",
      "       Augchloropsis       0.00      0.00      0.00        38\n",
      "              Bombus       0.00      0.00      0.00        54\n",
      "             Centris       0.00      0.00      0.00        22\n",
      "             Eulaema       0.00      0.00      0.00         4\n",
      "          Exomalopis       0.30      1.00      0.46        97\n",
      "            Melipona       0.00      0.00      0.00        64\n",
      "Pseudoalglochloropsi       0.00      0.00      0.00        24\n",
      "            Xylocopa       0.00      0.00      0.00        21\n",
      "\n",
      "            accuracy                           0.30       324\n",
      "           macro avg       0.04      0.12      0.06       324\n",
      "        weighted avg       0.09      0.30      0.14       324\n",
      "\n"
     ]
    }
   ],
   "source": [
    "print(classification_report(real_class, majority_class_predict))"
   ]
  },
  {
   "cell_type": "code",
   "execution_count": null,
   "metadata": {},
   "outputs": [],
   "source": []
  }
 ],
 "metadata": {
  "kernelspec": {
   "display_name": "Python 3",
   "language": "python",
   "name": "python3"
  },
  "language_info": {
   "codemirror_mode": {
    "name": "ipython",
    "version": 3
   },
   "file_extension": ".py",
   "mimetype": "text/x-python",
   "name": "python",
   "nbconvert_exporter": "python",
   "pygments_lexer": "ipython3",
   "version": "3.7.6"
  }
 },
 "nbformat": 4,
 "nbformat_minor": 2
}
